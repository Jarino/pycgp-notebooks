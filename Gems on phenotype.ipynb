{
 "cells": [
  {
   "cell_type": "markdown",
   "metadata": {},
   "source": [
    "Notebook to test out the phenotypic gems"
   ]
  },
  {
   "cell_type": "code",
   "execution_count": 2,
   "metadata": {
    "collapsed": true
   },
   "outputs": [],
   "source": [
    "import numpy as np\n",
    "import matplotlib.pyplot as plt\n",
    "%matplotlib inline"
   ]
  },
  {
   "cell_type": "markdown",
   "metadata": {},
   "source": [
    "Generate data for simple function $y(x) = x^4 + x^3 + x^2 + x$"
   ]
  },
  {
   "cell_type": "code",
   "execution_count": 3,
   "metadata": {
    "collapsed": true
   },
   "outputs": [],
   "source": [
    "X = np.arange(-50,50,0.5)\n",
    "Y = X**4 + X**3 + X**2 + X\n",
    "X = X.reshape(-1,1)\n",
    "TRIALS = 200"
   ]
  },
  {
   "cell_type": "markdown",
   "metadata": {},
   "source": [
    "Add pycgp"
   ]
  },
  {
   "cell_type": "code",
   "execution_count": 4,
   "metadata": {
    "collapsed": true
   },
   "outputs": [],
   "source": [
    "from pycgp.gems import GemPheno, MatchPhenotypeStrategy\n",
    "from pycgp.evolution import evolution\n",
    "from pycgp.params import DEFAULT_PARAMS"
   ]
  },
  {
   "cell_type": "markdown",
   "metadata": {},
   "source": [
    "Specify evolution parameters, along with fitness function."
   ]
  },
  {
   "cell_type": "code",
   "execution_count": 5,
   "metadata": {
    "collapsed": true
   },
   "outputs": [],
   "source": [
    "from sklearn.metrics import mean_squared_error\n",
    "\n",
    "ev_params = {\n",
    "  'cost_func': mean_squared_error,\n",
    "  'target_fitness': 0,\n",
    "  'gems': True,\n",
    "  'j_box_size': 50,\n",
    "  'gem_type': GemPheno,\n",
    "  'match_strategy': MatchPhenotypeStrategy\n",
    "}"
   ]
  },
  {
   "cell_type": "markdown",
   "metadata": {},
   "source": [
    "Specify the cartesian program structure and create individual factory"
   ]
  },
  {
   "cell_type": "code",
   "execution_count": 6,
   "metadata": {
    "collapsed": true
   },
   "outputs": [],
   "source": [
    "DEFAULT_PARAMS['n_rows'] = 1\n",
    "DEFAULT_PARAMS['n_cols'] = 15\n",
    "DEFAULT_PARAMS['n_inputs'] = 1\n",
    "DEFAULT_PARAMS['n_outputs'] = 1"
   ]
  },
  {
   "cell_type": "code",
   "execution_count": 8,
   "metadata": {
    "collapsed": true
   },
   "outputs": [],
   "source": [
    "from pycgp.counter import Counter"
   ]
  },
  {
   "cell_type": "code",
   "execution_count": 13,
   "metadata": {},
   "outputs": [
    {
     "name": "stdout",
     "output_type": "stream",
     "text": [
      "iteration: 0, 1, 2, 3, 4, 5, 6, 7, 8, 9, 10, 11, 12, 13, 14, 15, 16, 17, 18, 19, 20, 21, 22, 23, 24, 25, 26, 27, 28, 29, 30, 31, 32, 33, 34, 35, 36, 37, 38, 39, 40, 41, 42, 43, 44, 45, 46, 47, 48, 49, 50, 51, 52, 53, 54, 55, 56, 57, 58, 59, 60, 61, 62, 63, 64, 65, 66, 67, 68, 69, 70, 71, 72, 73, 74, 75, 76, 77, 78, 79, 80, 81, 82, 83, 84, 85, 86, 87, 88, 89, 90, 91, 92, 93, 94, 95, 96, 97, 98, 99, 100, 101, 102, 103, 104, 105, 106, 107, 108, 109, 110, 111, 112, 113, 114, 115, 116, 117, 118, 119, 120, 121, 122, 123, 124, 125, 126, 127, 128, 129, 130, 131, 132, 133, 134, 135, 136, 137, 138, 139, 140, 141, 142, 143, 144, 145, 146, 147, 148, 149, 150, 151, 152, 153, 154, 155, 156, 157, 158, 159, 160, 161, 162, 163, 164, 165, 166, 167, 168, 169, 170, 171, 172, 173, 174, 175, 176, 177, 178, 179, 180, 181, 182, 183, 184, 185, 186, 187, 188, 189, 190, 191, 192, 193, 194, 195, 196, 197, 198, 199, \n",
      "\n",
      "CPU times: user 55min 56s, sys: 8.73 s, total: 56min 5s\n",
      "Wall time: 59min 13s\n"
     ]
    }
   ],
   "source": [
    "%%time\n",
    "\n",
    "ev_params['gems'] = True\n",
    "\n",
    "gems_all_evals = []\n",
    "gems_all_bests = []\n",
    "gems_stats = []\n",
    "\n",
    "print('iteration:', end=' ')\n",
    "for i in range(0, TRIALS):\n",
    "    result = evolution(DEFAULT_PARAMS, ev_params, X, Y)\n",
    "    gems_all_evals.append(result['evals'])\n",
    "    gems_all_bests.append(result['final'][0])\n",
    "    gems_stats.append(Counter.get().dict.copy())\n",
    "    print('{},'.format(i), end=' ')\n",
    "print('\\n')"
   ]
  },
  {
   "cell_type": "code",
   "execution_count": 17,
   "metadata": {},
   "outputs": [
    {
     "name": "stdout",
     "output_type": "stream",
     "text": [
      "46706\n",
      "87680\n",
      "Total generations: 222170, avg: 1110.85\n",
      "Average number of evaluations: 2824.29\n",
      "Average final fitness: 259463055367.6293\n"
     ]
    }
   ],
   "source": [
    "print(sum([x['g_better'] for x in gems_stats]))\n",
    "print(sum([x['g_worse'] for x in gems_stats]))\n",
    "sum_of_gens = sum([x['gens'] for x in gems_stats])\n",
    "print('Total generations: {}, avg: {}'.format(sum_of_gens, sum_of_gens/TRIALS))\n",
    "print('Average number of evaluations: {}\\nAverage final fitness: {}'.format(\n",
    "    np.average(gems_all_evals), np.average([x.fitness for x in gems_all_bests])))\n"
   ]
  },
  {
   "cell_type": "code",
   "execution_count": null,
   "metadata": {
    "collapsed": true
   },
   "outputs": [],
   "source": []
  }
 ],
 "metadata": {
  "kernelspec": {
   "display_name": "Python 3",
   "language": "python",
   "name": "python3"
  },
  "language_info": {
   "codemirror_mode": {
    "name": "ipython",
    "version": 3
   },
   "file_extension": ".py",
   "mimetype": "text/x-python",
   "name": "python",
   "nbconvert_exporter": "python",
   "pygments_lexer": "ipython3",
   "version": "3.6.2"
  }
 },
 "nbformat": 4,
 "nbformat_minor": 2
}
