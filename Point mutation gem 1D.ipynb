{
 "cells": [
  {
   "cell_type": "code",
   "execution_count": 1,
   "metadata": {
    "collapsed": true
   },
   "outputs": [],
   "source": [
    "import random\n",
    "\n",
    "import numpy as np\n",
    "\n",
    "import seaborn as sns\n",
    "import matplotlib.pyplot as plt\n",
    "%matplotlib inline\n",
    "\n"
   ]
  },
  {
   "cell_type": "code",
   "execution_count": 2,
   "metadata": {
    "collapsed": true
   },
   "outputs": [],
   "source": [
    "from sklearn.utils import check_random_state\n",
    "\n",
    "rng = check_random_state(0)\n",
    "\n",
    "# Training samples\n",
    "X_train = rng.uniform(-50, 50, 100)\n",
    "y_train = X_train**4 + X_train**3 + X_train**2 + X_train\n",
    "\n",
    "# Test samples\n",
    "X_test = rng.uniform(-50, 50, 100)\n",
    "y_test = X_test**4 + X_test**3 + X_test**2 + X_test"
   ]
  },
  {
   "cell_type": "markdown",
   "metadata": {},
   "source": [
    "Add PyCGP into the mix, along with single mutation, its gem and match strategy."
   ]
  },
  {
   "cell_type": "code",
   "execution_count": 3,
   "metadata": {
    "collapsed": true
   },
   "outputs": [],
   "source": [
    "from pycgp.evolution import evolution\n",
    "from pycgp.mutation import single_mutation\n",
    "from pycgp.gems import GemSM, MatchSMStrategy\n",
    "from pycgp.counter import Counter\n",
    "from pycgp.params import DEFAULT_PARAMS"
   ]
  },
  {
   "cell_type": "code",
   "execution_count": 4,
   "metadata": {
    "collapsed": true
   },
   "outputs": [],
   "source": [
    "from sklearn.metrics import mean_squared_error\n",
    "\n",
    "ev_params = {\n",
    "  'cost_func': mean_squared_error,\n",
    "  'target_fitness': 0,\n",
    "  'gems': True,\n",
    "  'j_box_size': 50\n",
    "}\n",
    "\n",
    "TRIALS = 5"
   ]
  },
  {
   "cell_type": "code",
   "execution_count": 5,
   "metadata": {
    "collapsed": true
   },
   "outputs": [],
   "source": [
    "DEFAULT_PARAMS['n_rows'] = 1\n",
    "DEFAULT_PARAMS['n_cols'] = 15\n",
    "DEFAULT_PARAMS['n_inputs'] = 1\n",
    "DEFAULT_PARAMS['n_outputs'] = 1"
   ]
  },
  {
   "cell_type": "code",
   "execution_count": 6,
   "metadata": {
    "collapsed": true
   },
   "outputs": [],
   "source": [
    "def print_evaluation(all_evals, all_bests, stats, scores):\n",
    "    print('Number of improving gem applications: {}'.format(sum([x['g_better'] for x in stats])))\n",
    "    print('Number of detoriorating gem applications: {}'.format(sum([x['g_worse'] for x in stats])))\n",
    "    print('Number of same as parent applications: {}'.format(sum([x['g_same_as_parent'] for x in stats])))\n",
    "    sum_of_gens = sum([x['gens'] for x in stats])\n",
    "    print('Total generations: {}, avg: {}'.format(sum_of_gens, sum_of_gens/TRIALS))\n",
    "    print('Average number of evaluations: {}\\nAverage final fitness: {}'.format(\n",
    "        np.average(all_evals), np.average([x.fitness for x in all_bests])))\n",
    "    print('Average score on test: {}'.format(np.average(scores)))"
   ]
  },
  {
   "cell_type": "code",
   "execution_count": 7,
   "metadata": {},
   "outputs": [
    {
     "name": "stdout",
     "output_type": "stream",
     "text": [
      "iteration: 0, 1, 2, 3, 4, \n",
      "\n",
      "CPU times: user 53.3 s, sys: 312 ms, total: 53.6 s\n",
      "Wall time: 54.8 s\n"
     ]
    }
   ],
   "source": [
    "%%time\n",
    "\n",
    "random.seed(1)\n",
    "\n",
    "ev_params['gems'] = False\n",
    "\n",
    "all_evals = []\n",
    "all_bests = []\n",
    "stats = []\n",
    "scores = []\n",
    "\n",
    "print('iteration:', end=' ')\n",
    "for i in range(0, TRIALS):\n",
    "    result = evolution(DEFAULT_PARAMS, ev_params, X_train.reshape(-1,1), y_train)\n",
    "    all_evals.append(result['evals'])\n",
    "    best_individual = result['final'][0]\n",
    "    all_bests.append(best_individual)\n",
    "    stats.append(Counter.get().dict.copy())\n",
    "    \n",
    "    output = best_individual.execute(X_test.reshape(-1,1))\n",
    "    score = mean_squared_error(output, y_test)\n",
    "    scores.append(score)\n",
    "    \n",
    "    print('{},'.format(i), end=' ')\n",
    "print('\\n')"
   ]
  },
  {
   "cell_type": "code",
   "execution_count": 8,
   "metadata": {},
   "outputs": [
    {
     "name": "stdout",
     "output_type": "stream",
     "text": [
      "Number of improving gem applications: 0\n",
      "Number of detoriorating gem applications: 0\n",
      "Number of same as parent applications: 0\n",
      "Total generations: 13134, avg: 2626.8\n",
      "Average number of evaluations: 5001.2\n",
      "Average final fitness: 919734047109.5984\n",
      "Average score on test: 847451882241.3635\n"
     ]
    }
   ],
   "source": [
    "print_evaluation(all_evals, all_bests, stats, scores)"
   ]
  },
  {
   "cell_type": "code",
   "execution_count": 9,
   "metadata": {},
   "outputs": [
    {
     "name": "stdout",
     "output_type": "stream",
     "text": [
      "Number of improving gem applications: 0\n",
      "Number of detoriorating gem applications: 0\n",
      "Number of same as parent applications: 0\n",
      "Total generations: 13134, avg: 2626.8\n",
      "Average number of evaluations: 5001.2\n",
      "Average final fitness: 919734047109.5984\n",
      "Average score on test: 847451882241.3635\n"
     ]
    },
    {
     "data": {
      "text/plain": [
       "array([[  1.92893445e+16,   4.56860695e+12,   4.56860696e+12, ...,\n",
       "          1.83651548e+12,   9.13719877e+11,   3.65661854e+12],\n",
       "       [  4.56861416e+12,   4.56860644e+12,   4.56861063e+12, ...,\n",
       "          4.40251299e+12,   4.46712417e+12,   1.03478028e+21],\n",
       "       [  2.15264998e+21,   4.56860644e+12,   4.56860644e+12, ...,\n",
       "          2.56977129e+05,   8.38579906e+02,   9.21849215e+11],\n",
       "       [  4.56861017e+12,   4.57231724e+12,   4.56859193e+12, ...,\n",
       "          1.68720781e+29,   1.68720816e+29,   2.80073555e+63],\n",
       "       [  4.56862251e+12,   5.15364343e+12,   4.56860902e+12, ...,\n",
       "          5.76437251e+11,   1.79169607e+12,   2.30886797e+12]])"
      ]
     },
     "execution_count": 9,
     "metadata": {},
     "output_type": "execute_result"
    },
    {
     "data": {
      "image/png": "[encoded data removed]",
      "text/plain": [
       "<matplotlib.figure.Figure at 0x7fa1ecda2358>"
      ]
     },
     "metadata": {},
     "output_type": "display_data"
    }
   ],
   "source": [
    "print_evaluation(all_evals, all_bests, stats, scores)\n",
    "\n",
    "minn = min([len(x['best']) for x in stats])\n",
    "best_data = np.array([x['best'][:minn] for x in stats])\n",
    "best_avg = np.average(best_data, axis=0)\n",
    "\n",
    "fig, (ax1, ax2) = plt.subplots(1,2, figsize=(10,4))\n",
    "\n",
    "for run in best_data:\n",
    "    ax1.plot(run, c='#aaaaaa')\n",
    "ax1.plot(best_avg, c='#FF0000')\n",
    "ax1.set_title('Best fitness')\n",
    "\n",
    "minn = min([len(x['mean']) for x in stats])\n",
    "mean_data = np.array([x['mean'][:minn] for x in stats])\n",
    "mean_avg = np.average(mean_data, axis=0)\n",
    "\n",
    "for run in mean_data:\n",
    "    ax2.plot(run, c='#aaaaaa')\n",
    "ax2.plot(mean_avg, c='#ff0000')\n",
    "ax2.set_title('Mean fitness')\n",
    "\n",
    "\n",
    "mean_data"
   ]
  },
  {
   "cell_type": "code",
   "execution_count": 10,
   "metadata": {},
   "outputs": [
    {
     "name": "stdout",
     "output_type": "stream",
     "text": [
      "iteration: 0, 1, 2, 3, 4, \n",
      "\n",
      "CPU times: user 46.9 s, sys: 266 ms, total: 47.1 s\n",
      "Wall time: 47.5 s\n"
     ]
    }
   ],
   "source": [
    "%%time\n",
    "\n",
    "random.seed(1)\n",
    "\n",
    "ev_params['gems'] = True\n",
    "\n",
    "sm_all_evals = []\n",
    "sm_all_bests = []\n",
    "sm_stats = []\n",
    "sm_scores = []\n",
    "\n",
    "print('iteration:', end=' ')\n",
    "for i in range(0, TRIALS):\n",
    "    result = evolution(DEFAULT_PARAMS, ev_params, X_train.reshape(-1,1), y_train)\n",
    "    sm_all_evals.append(result['evals'])\n",
    "    best_individual = result['final'][0]\n",
    "    sm_all_bests.append(best_individual)\n",
    "    sm_stats.append(Counter.get().dict.copy())\n",
    "    \n",
    "    output = best_individual.execute(X_test.reshape(-1,1))\n",
    "    score = mean_squared_error(output, y_test)\n",
    "    sm_scores.append(score)\n",
    "    \n",
    "    print('{},'.format(i), end=' ')\n",
    "print('\\n')"
   ]
  },
  {
   "cell_type": "code",
   "execution_count": 11,
   "metadata": {},
   "outputs": [
    {
     "name": "stdout",
     "output_type": "stream",
     "text": [
      "Number of improving gem applications: 0\n",
      "Number of detoriorating gem applications: 0\n",
      "Number of same as parent applications: 11856\n",
      "Total generations: 15441, avg: 3088.2\n",
      "Average number of evaluations: 5000.8\n",
      "Average final fitness: 5.4129743440757385e-18\n",
      "Average score on test: 4.7839895546434225e-18\n"
     ]
    },
    {
     "data": {
      "text/plain": [
       "<matplotlib.text.Text at 0x7fa1ed957c88>"
      ]
     },
     "execution_count": 11,
     "metadata": {},
     "output_type": "execute_result"
    },
    {
     "data": {
      "image/png": "[encoded data removed]",
      "text/plain": [
       "<matplotlib.figure.Figure at 0x7fa1e4ddd400>"
      ]
     },
     "metadata": {},
     "output_type": "display_data"
    }
   ],
   "source": [
    "print_evaluation(sm_all_evals, sm_all_bests, sm_stats, sm_scores)\n",
    "\n",
    "minn = min([len(x['best']) for x in sm_stats])\n",
    "best_data = np.array([x['best'][:minn] for x in sm_stats])\n",
    "sm_best_avg = np.average(best_data, axis=0)\n",
    "\n",
    "fig, (ax1, ax2) = plt.subplots(1,2, figsize=(10,4))\n",
    "\n",
    "for run in best_data:\n",
    "    ax1.plot(range(0, minn), run, c='#aaaaaa')\n",
    "ax1.plot(sm_best_avg, c='#FF0000')\n",
    "ax1.set_title('Best fitness')\n",
    "\n",
    "minn = min([len(x['mean']) for x in sm_stats])\n",
    "mean_data = np.array([x['mean'][:minn] for x in sm_stats])\n",
    "mean_avg = np.average(mean_data, axis=0)\n",
    "\n",
    "for run in mean_data:\n",
    "    ax2.plot(run, c='#aaaaaa')\n",
    "ax2.plot(mean_avg, c='#ff0000')\n",
    "ax2.set_title('Mean fitness')"
   ]
  },
  {
   "cell_type": "code",
   "execution_count": 12,
   "metadata": {},
   "outputs": [
    {
     "data": {
      "image/png": "[encoded data removed]",
      "text/plain": [
       "<matplotlib.figure.Figure at 0x7fa1ecdf0da0>"
      ]
     },
     "metadata": {},
     "output_type": "display_data"
    }
   ],
   "source": [
    "plt.plot(best_avg[:600], label='no gems')\n",
    "plt.plot(sm_best_avg[:600], label='with gems')\n",
    "plt.title('Point mutation, $x^4 - x^3 - x^2 - x$')\n",
    "plt.xlabel('Generation')\n",
    "plt.ylabel('Fitness')\n",
    "plt.legend()\n",
    "plt.savefig('out/pm1d.jpg')"
   ]
  },
  {
   "cell_type": "code",
   "execution_count": null,
   "metadata": {
    "collapsed": true
   },
   "outputs": [],
   "source": []
  }
 ],
 "metadata": {
  "kernelspec": {
   "display_name": "Python 3",
   "language": "python",
   "name": "python3"
  },
  "language_info": {
   "codemirror_mode": {
    "name": "ipython",
    "version": 3
   },
   "file_extension": ".py",
   "mimetype": "text/x-python",
   "name": "python",
   "nbconvert_exporter": "python",
   "pygments_lexer": "ipython3",
   "version": "3.6.2"
  }
 },
 "nbformat": 4,
 "nbformat_minor": 2
}
