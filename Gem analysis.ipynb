{
 "cells": [
  {
   "cell_type": "markdown",
   "metadata": {},
   "source": [
    "# Gems analysis #1\n",
    "\n",
    "Some basic insights on the behaviour of the implemented gem extension. Note, that this is the analysis of simple gems, meaning, that it works on genotype and match is confirmed when gene on given index has the same value as the gem.\n",
    "\n",
    "## Simple 1D symbolic regression\n",
    "\n",
    "Let's generate data for simple function $y(x) = x^4 + x^3 + x^2 + x$"
   ]
  },
  {
   "cell_type": "code",
   "execution_count": 1,
   "metadata": {
    "collapsed": true
   },
   "outputs": [],
   "source": [
    "import numpy as np\n",
    "\n",
    "X = np.arange(-50,50,0.5)\n",
    "Y = X**4 + X**3 + X**2 + X"
   ]
  },
  {
   "cell_type": "markdown",
   "metadata": {},
   "source": [
    "Now do the evolution."
   ]
  },
  {
   "cell_type": "code",
   "execution_count": 2,
   "metadata": {},
   "outputs": [],
   "source": [
    "from pycgp.selection import truncation_selection\n",
    "from pycgp.mutation import point_mutation\n",
    "from pycgp.evolution import evolution\n",
    "from pycgp.params import DEFAULT_PARAMS"
   ]
  },
  {
   "cell_type": "markdown",
   "metadata": {},
   "source": [
    "Evolution parameters:"
   ]
  },
  {
   "cell_type": "code",
   "execution_count": 3,
   "metadata": {
    "collapsed": true
   },
   "outputs": [],
   "source": [
    "from sklearn.metrics import mean_squared_error\n",
    "\n",
    "ev_params = {\n",
    "  'cost_func': mean_squared_error,\n",
    "  'target_fitness': 0,\n",
    "  'gems': True,\n",
    "  'selection': truncation_selection,\n",
    "  'mutation': point_mutation\n",
    "}"
   ]
  },
  {
   "cell_type": "markdown",
   "metadata": {},
   "source": [
    "Specify the cartesian program structure:"
   ]
  },
  {
   "cell_type": "code",
   "execution_count": 4,
   "metadata": {
    "collapsed": true
   },
   "outputs": [],
   "source": [
    "DEFAULT_PARAMS['n_rows'] = 1\n",
    "DEFAULT_PARAMS['n_cols'] = 15\n",
    "DEFAULT_PARAMS['n_inputs'] = 1\n",
    "DEFAULT_PARAMS['n_outputs'] = 1"
   ]
  },
  {
   "cell_type": "code",
   "execution_count": 18,
   "metadata": {
    "collapsed": true
   },
   "outputs": [],
   "source": [
    "from pycgp.counter import Counter"
   ]
  },
  {
   "cell_type": "markdown",
   "metadata": {},
   "source": [
    "Evolve:"
   ]
  },
  {
   "cell_type": "code",
   "execution_count": 30,
   "metadata": {},
   "outputs": [
    {
     "name": "stdout",
     "output_type": "stream",
     "text": [
      "Iteration: 0, 1, 2, 3, 4, 5, 6, 7, 8, 9, 10, 11, 12, 13, 14, 15, 16, 17, 18, 19, 20, 21, 22, 23, 24, 25, 26, 27, 28, 29, 30, 31, 32, 33, 34, 35, 36, 37, 38, 39, 40, 41, 42, 43, 44, 45, 46, 47, 48, 49, CPU times: user 9min 22s, sys: 1.22 s, total: 9min 23s\n",
      "Wall time: 9min 30s\n"
     ]
    }
   ],
   "source": [
    "%%time\n",
    "\n",
    "stats = []\n",
    "\n",
    "print('Iteration: ', end='')\n",
    "for i in range(0, 50):\n",
    "    result = evolution(DEFAULT_PARAMS, ev_params, X.reshape(-1, 1), Y)\n",
    "    \n",
    "    stats.append([x for x in Counter.get().dict.values()])\n",
    "    \n",
    "    print('{},'.format(i), end=' ')\n",
    "    "
   ]
  },
  {
   "cell_type": "code",
   "execution_count": 32,
   "metadata": {},
   "outputs": [
    {
     "name": "stdout",
     "output_type": "stream",
     "text": [
      "Number of improvements: 9006\n",
      "Number of detoriorations: 10062\n"
     ]
    }
   ],
   "source": [
    "print('Number of improvements: {}'.format(sum([x[0] for x in stats])))\n",
    "print('Number of detoriorations: {}'.format(sum([x[1] for x in stats])))"
   ]
  },
  {
   "cell_type": "markdown",
   "metadata": {},
   "source": [
    "It is clear, that this basic, single-gene match mechanism has strong downfall. More than half of gem applications leads to detorioration of fitness value, instead of improvement. \n",
    "\n",
    "This can explain poor results in first experiments. Next step is to apply gem only in case, that there is an actual improvement of the fitness (which is for some reason omitted in original paper)."
   ]
  }
 ],
 "metadata": {
  "kernelspec": {
   "display_name": "Python 3",
   "language": "python",
   "name": "python3"
  },
  "language_info": {
   "codemirror_mode": {
    "name": "ipython",
    "version": 3
   },
   "file_extension": ".py",
   "mimetype": "text/x-python",
   "name": "python",
   "nbconvert_exporter": "python",
   "pygments_lexer": "ipython3",
   "version": "3.6.2"
  }
 },
 "nbformat": 4,
 "nbformat_minor": 2
}
