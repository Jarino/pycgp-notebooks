{
 "cells": [
  {
   "cell_type": "code",
   "execution_count": 1,
   "metadata": {
    "collapsed": true
   },
   "outputs": [],
   "source": [
    "import random\n",
    "\n",
    "import numpy as np\n",
    "\n",
    "import seaborn as sns\n",
    "import matplotlib.pyplot as plt\n",
    "%matplotlib inline\n"
   ]
  },
  {
   "cell_type": "code",
   "execution_count": 2,
   "metadata": {
    "collapsed": true
   },
   "outputs": [],
   "source": [
    "from sklearn.utils import check_random_state\n",
    "\n",
    "rng = check_random_state(0)\n",
    "\n",
    "# Training samples\n",
    "X_train = rng.uniform(-1, 1, 100).reshape(50, 2)\n",
    "y_train = X_train[:, 0]**2 - X_train[:, 1]**2 + X_train[:, 1]\n",
    "\n",
    "# Test samples\n",
    "X_test = rng.uniform(-1, 1, 100).reshape(50, 2)\n",
    "y_test = X_test[:, 0]**2 - X_test[:, 1]**2 + X_test[:, 1]"
   ]
  },
  {
   "cell_type": "code",
   "execution_count": 3,
   "metadata": {
    "collapsed": true
   },
   "outputs": [],
   "source": [
    "from pycgp.evolution import evolution\n",
    "from pycgp.mutation import single_mutation\n",
    "from pycgp.gems import GemSM, MatchSMStrategy\n",
    "from pycgp.counter import Counter\n",
    "from pycgp.params import DEFAULT_PARAMS"
   ]
  },
  {
   "cell_type": "code",
   "execution_count": 4,
   "metadata": {
    "collapsed": true
   },
   "outputs": [],
   "source": [
    "from sklearn.metrics import mean_squared_error\n",
    "\n",
    "ev_params = {\n",
    "  'cost_func': mean_squared_error,\n",
    "  'target_fitness': 0,\n",
    "  'gems': True,\n",
    "  'j_box_size': 50,\n",
    "  'gem_type': GemSM,\n",
    "  'match_strategy': MatchSMStrategy,\n",
    "    'mutation': single_mutation\n",
    "}\n",
    "\n",
    "TRIALS = 50"
   ]
  },
  {
   "cell_type": "code",
   "execution_count": 5,
   "metadata": {
    "collapsed": true
   },
   "outputs": [],
   "source": [
    "DEFAULT_PARAMS['n_rows'] = 1\n",
    "DEFAULT_PARAMS['n_cols'] = 15\n",
    "DEFAULT_PARAMS['n_inputs'] = 1\n",
    "DEFAULT_PARAMS['n_outputs'] = 1"
   ]
  },
  {
   "cell_type": "code",
   "execution_count": 6,
   "metadata": {
    "collapsed": true
   },
   "outputs": [],
   "source": [
    "def print_evaluation(all_evals, all_bests, stats, scores):\n",
    "    print('Number of improving gem applications: {}'.format(sum([x['g_better'] for x in stats])))\n",
    "    print('Number of detoriorating gem applications: {}'.format(sum([x['g_worse'] for x in stats])))\n",
    "    print('Number of same as parent applications: {}'.format(sum([x['g_same_as_parent'] for x in stats])))\n",
    "    sum_of_gens = sum([x['gens'] for x in stats])\n",
    "    print('Total generations: {}, avg: {}'.format(sum_of_gens, sum_of_gens/TRIALS))\n",
    "    print('Average number of evaluations: {}\\nAverage final fitness: {}'.format(\n",
    "        np.average(all_evals), np.average([x.fitness for x in all_bests])))\n",
    "    print('Average score on test: {}'.format(np.average(scores)))"
   ]
  },
  {
   "cell_type": "code",
   "execution_count": 7,
   "metadata": {},
   "outputs": [
    {
     "name": "stdout",
     "output_type": "stream",
     "text": [
      "iteration: 0, 1, 2, 3, 4, 5, 6, 7, 8, 9, 10, 11, 12, 13, 14, 15, 16, 17, 18, 19, 20, 21, 22, 23, 24, 25, 26, 27, 28, 29, 30, 31, 32, 33, 34, 35, 36, 37, 38, 39, 40, 41, 42, 43, 44, 45, 46, 47, 48, 49, \n",
      "\n",
      "CPU times: user 5min 48s, sys: 2.83 s, total: 5min 51s\n",
      "Wall time: 5min 53s\n"
     ]
    }
   ],
   "source": [
    "%%time\n",
    "\n",
    "random.seed(1)\n",
    "\n",
    "ev_params['gems'] = False\n",
    "\n",
    "all_evals = []\n",
    "all_bests = []\n",
    "stats = []\n",
    "scores = []\n",
    "\n",
    "print('iteration:', end=' ')\n",
    "for i in range(0, TRIALS):\n",
    "    result = evolution(DEFAULT_PARAMS, ev_params, X_train, y_train)\n",
    "    all_evals.append(result['evals'])\n",
    "    best_individual = result['final'][0]\n",
    "    all_bests.append(best_individual)\n",
    "    stats.append(Counter.get().dict.copy())\n",
    "    \n",
    "    output = best_individual.execute(X_test)\n",
    "    score = mean_squared_error(output, y_test)\n",
    "    scores.append(score)\n",
    "    \n",
    "    print('{},'.format(i), end=' ')\n",
    "print('\\n')"
   ]
  },
  {
   "cell_type": "code",
   "execution_count": 8,
   "metadata": {},
   "outputs": [
    {
     "name": "stdout",
     "output_type": "stream",
     "text": [
      "Number of improving gem applications: 0\n",
      "Number of detoriorating gem applications: 0\n",
      "Number of same as parent applications: 0\n",
      "Total generations: 62450, avg: 1249.0\n",
      "Average number of evaluations: 5001.0\n",
      "Average final fitness: 0.5624444922339452\n",
      "Average score on test: 0.4966408051306783\n"
     ]
    },
    {
     "data": {
      "text/plain": [
       "<matplotlib.text.Text at 0x7f09702a2eb8>"
      ]
     },
     "execution_count": 8,
     "metadata": {},
     "output_type": "execute_result"
    },
    {
     "data": {
      "image/png": "[encoded data removed]",
      "text/plain": [
       "<matplotlib.figure.Figure at 0x7f097880a320>"
      ]
     },
     "metadata": {},
     "output_type": "display_data"
    }
   ],
   "source": [
    "print_evaluation(all_evals, all_bests, stats, scores)\n",
    "\n",
    "best_data = np.array([x['best'] for x in stats])\n",
    "best_avg = np.average(best_data, axis=0)\n",
    "\n",
    "fig, (ax1, ax2) = plt.subplots(1,2, figsize=(10,4))\n",
    "\n",
    "for run in best_data:\n",
    "    ax1.plot(run, c='#aaaaaa')\n",
    "ax1.plot(best_avg, c='#FF0000')\n",
    "ax1.set_title('Best fitness')\n",
    "\n",
    "mean_data = np.array([x['mean'] for x in stats])\n",
    "mean_avg = np.average(mean_data, axis=0)\n",
    "\n",
    "for run in mean_data:\n",
    "    ax2.plot(run, c='#aaaaaa')\n",
    "ax2.plot(mean_avg, c='#ff0000')\n",
    "ax2.set_title('Mean fitness')\n",
    "\n",
    "\n"
   ]
  },
  {
   "cell_type": "code",
   "execution_count": 9,
   "metadata": {},
   "outputs": [
    {
     "name": "stdout",
     "output_type": "stream",
     "text": [
      "iteration: 0, 1, 2, 3, 4, 5, 6, 7, 8, 9, 10, 11, 12, 13, 14, 15, 16, 17, 18, 19, 20, 21, 22, 23, 24, 25, 26, 27, 28, 29, 30, 31, 32, 33, 34, 35, 36, 37, 38, 39, 40, 41, 42, 43, 44, 45, 46, 47, 48, 49, \n",
      "\n",
      "CPU times: user 6min 8s, sys: 469 ms, total: 6min 9s\n",
      "Wall time: 6min 10s\n"
     ]
    }
   ],
   "source": [
    "%%time\n",
    "\n",
    "random.seed(1)\n",
    "\n",
    "ev_params['gems'] = True\n",
    "\n",
    "sm_all_evals = []\n",
    "sm_all_bests = []\n",
    "sm_stats = []\n",
    "sm_scores = []\n",
    "\n",
    "print('iteration:', end=' ')\n",
    "for i in range(0, TRIALS):\n",
    "    result = evolution(DEFAULT_PARAMS, ev_params, X_train, y_train)\n",
    "    sm_all_evals.append(result['evals'])\n",
    "    best_individual = result['final'][0]\n",
    "    sm_all_bests.append(best_individual)\n",
    "    sm_stats.append(Counter.get().dict.copy())\n",
    "    \n",
    "    output = best_individual.execute(X_test)\n",
    "    score = mean_squared_error(output, y_test)\n",
    "    sm_scores.append(score)\n",
    "    \n",
    "    print('{},'.format(i), end=' ')\n",
    "print('\\n')"
   ]
  },
  {
   "cell_type": "code",
   "execution_count": 10,
   "metadata": {},
   "outputs": [
    {
     "name": "stdout",
     "output_type": "stream",
     "text": [
      "Number of improving gem applications: 6633\n",
      "Number of detoriorating gem applications: 13487\n",
      "Number of same as parent applications: 0\n",
      "Total generations: 57428, avg: 1148.56\n",
      "Average number of evaluations: 5001.64\n",
      "Average final fitness: 0.5558768492395809\n",
      "Average score on test: 0.46651449054072713\n"
     ]
    },
    {
     "data": {
      "text/plain": [
       "<matplotlib.text.Text at 0x7f096fd05b38>"
      ]
     },
     "execution_count": 10,
     "metadata": {},
     "output_type": "execute_result"
    },
    {
     "data": {
      "image/png": "[encoded data removed]",
      "text/plain": [
       "<matplotlib.figure.Figure at 0x7f096fdb3048>"
      ]
     },
     "metadata": {},
     "output_type": "display_data"
    }
   ],
   "source": [
    "print_evaluation(sm_all_evals, sm_all_bests, sm_stats, sm_scores)\n",
    "\n",
    "minn = min([len(x['best']) for x in sm_stats])\n",
    "best_data = np.array([x['best'][:minn] for x in sm_stats])\n",
    "sm_best_avg = np.average(best_data, axis=0)\n",
    "\n",
    "fig, (ax1, ax2) = plt.subplots(1,2, figsize=(10,4))\n",
    "\n",
    "for run in best_data:\n",
    "    ax1.plot(range(0, minn), run, c='#aaaaaa')\n",
    "ax1.plot(sm_best_avg, c='#FF0000')\n",
    "ax1.set_title('Best fitness')\n",
    "\n",
    "minn = min([len(x['mean']) for x in sm_stats])\n",
    "mean_data = np.array([x['mean'][:minn] for x in sm_stats])\n",
    "mean_avg = np.average(mean_data, axis=0)\n",
    "\n",
    "for run in mean_data:\n",
    "    ax2.plot(run, c='#aaaaaa')\n",
    "ax2.plot(mean_avg, c='#ff0000')\n",
    "ax2.set_title('Mean fitness')"
   ]
  }
 ],
 "metadata": {
  "kernelspec": {
   "display_name": "Python 3",
   "language": "python",
   "name": "python3"
  },
  "language_info": {
   "codemirror_mode": {
    "name": "ipython",
    "version": 3
   },
   "file_extension": ".py",
   "mimetype": "text/x-python",
   "name": "python",
   "nbconvert_exporter": "python",
   "pygments_lexer": "ipython3",
   "version": "3.6.2"
  }
 },
 "nbformat": 4,
 "nbformat_minor": 2
}
