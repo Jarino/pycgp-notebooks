{
 "cells": [
  {
   "cell_type": "markdown",
   "metadata": {},
   "source": [
    "# Evaluations of various mutations\n",
    "\n",
    "Simple evaluation of performance using three kinds of mutations.\n",
    "\n",
    "First of all, let's generate data for simple function $y(x) = x^4 + x^3 + x^2 + x$."
   ]
  },
  {
   "cell_type": "code",
   "execution_count": 1,
   "metadata": {
    "collapsed": true
   },
   "outputs": [],
   "source": [
    "import numpy as np\n",
    "\n",
    "\n",
    "X = np.arange(-50,50,0.5)\n",
    "Y = X**4 + X**3 + X**2 + X\n",
    "X = X.reshape(-1,1)\n",
    "TRIALS = 50"
   ]
  },
  {
   "cell_type": "markdown",
   "metadata": {},
   "source": [
    "Add PyCGP"
   ]
  },
  {
   "cell_type": "code",
   "execution_count": 2,
   "metadata": {
    "collapsed": true
   },
   "outputs": [],
   "source": [
    "from pycgp.evolution import evolution\n",
    "from pycgp.mutation import point_mutation, active_mutation, single_mutation\n",
    "from pycgp.params import DEFAULT_PARAMS\n",
    "from pycgp.counter import Counter\n",
    "import random"
   ]
  },
  {
   "cell_type": "markdown",
   "metadata": {},
   "source": [
    "Set evolution parameteres"
   ]
  },
  {
   "cell_type": "code",
   "execution_count": 3,
   "metadata": {
    "collapsed": true
   },
   "outputs": [],
   "source": [
    "from sklearn.metrics import mean_squared_error\n",
    "\n",
    "ev_params = {\n",
    "  'cost_func': mean_squared_error,\n",
    "  'target_fitness': 0,\n",
    "  'gems': False\n",
    "}\n",
    "\n",
    "DEFAULT_PARAMS['n_rows'] = 1\n",
    "DEFAULT_PARAMS['n_cols'] = 15\n",
    "DEFAULT_PARAMS['n_inputs'] = 1\n",
    "DEFAULT_PARAMS['n_outputs'] = 1"
   ]
  },
  {
   "cell_type": "code",
   "execution_count": 4,
   "metadata": {
    "collapsed": true
   },
   "outputs": [],
   "source": [
    "def print_evaluation(all_evals, all_bests, stats):\n",
    "    print('Number of improving gem applications: {}'.format(sum([x['g_better'] for x in stats])))\n",
    "    print('Number of detoriorating gem applications: {}'.format(sum([x['g_worse'] for x in stats])))\n",
    "    print('Number of same as parent applications: {}'.format(sum([x['g_same_as_parent'] for x in stats])))\n",
    "    sum_of_gens = sum([x['gens'] for x in stats])\n",
    "    print('Total generations: {}, avg: {}'.format(sum_of_gens, sum_of_gens/TRIALS))\n",
    "    print('Average number of evaluations: {}\\nAverage final fitness: {}'.format(\n",
    "        np.average(all_evals), np.average([x.fitness for x in all_bests])))"
   ]
  },
  {
   "cell_type": "markdown",
   "metadata": {},
   "source": [
    "## Point mutation\n",
    "\n",
    "Change one random gene"
   ]
  },
  {
   "cell_type": "code",
   "execution_count": 5,
   "metadata": {},
   "outputs": [
    {
     "name": "stdout",
     "output_type": "stream",
     "text": [
      "Iteration: 0, 1, 2, 3, 4, 5, 6, 7, 8, 9, 10, 11, 12, 13, 14, 15, 16, 17, 18, 19, 20, 21, 22, 23, 24, 25, 26, 27, 28, 29, 30, 31, 32, 33, 34, 35, 36, 37, 38, 39, 40, 41, 42, 43, 44, 45, 46, 47, 48, 49, \n",
      "\n",
      "CPU times: user 12min 9s, sys: 1.66 s, total: 12min 11s\n",
      "Wall time: 12min 13s\n"
     ]
    }
   ],
   "source": [
    "%%time\n",
    "\n",
    "random.seed(1)\n",
    "\n",
    "ev_params['mutation'] = point_mutation\n",
    "\n",
    "pm_all_evals = []\n",
    "pm_all_bests = []\n",
    "pm_stats = []\n",
    "\n",
    "print('Iteration:', end=' ')\n",
    "for i in range(0, TRIALS):\n",
    "    result = evolution(DEFAULT_PARAMS, ev_params, X, Y)\n",
    "    pm_all_evals.append(result['evals'])\n",
    "    pm_all_bests.append(result['final'][0])\n",
    "    pm_stats.append(Counter.get().dict.copy())\n",
    "    print('{},'.format(i), end=' ')\n",
    "print('\\n')"
   ]
  },
  {
   "cell_type": "code",
   "execution_count": 6,
   "metadata": {},
   "outputs": [
    {
     "name": "stdout",
     "output_type": "stream",
     "text": [
      "Number of improving gem applications: 0\n",
      "Number of detoriorating gem applications: 0\n",
      "Number of same as parent applications: 0\n",
      "Total generations: 87478, avg: 1749.56\n",
      "Average number of evaluations: 3609.18\n",
      "Average final fitness: 264893423144.06357\n"
     ]
    }
   ],
   "source": [
    "print_evaluation(pm_all_evals, pm_all_bests, pm_stats)"
   ]
  },
  {
   "cell_type": "markdown",
   "metadata": {},
   "source": [
    "## Active mutation\n",
    "\n",
    "Change only one active gene."
   ]
  },
  {
   "cell_type": "code",
   "execution_count": 7,
   "metadata": {},
   "outputs": [
    {
     "name": "stdout",
     "output_type": "stream",
     "text": [
      "Iteration: 0, 1, 2, 3, 4, 5, 6, 7, 8, 9, 10, 11, 12, 13, 14, 15, 16, 17, 18, 19, 20, 21, 22, 23, 24, 25, 26, 27, 28, 29, 30, 31, 32, 33, 34, 35, 36, 37, 38, 39, 40, 41, 42, 43, 44, 45, 46, 47, 48, 49, \n",
      "\n",
      "CPU times: user 7min 21s, sys: 797 ms, total: 7min 22s\n",
      "Wall time: 7min 23s\n"
     ]
    }
   ],
   "source": [
    "%%time\n",
    "\n",
    "random.seed(1)\n",
    "\n",
    "ev_params['mutation'] = active_mutation\n",
    "\n",
    "am_all_evals = []\n",
    "am_all_bests = []\n",
    "am_stats = []\n",
    "\n",
    "print('Iteration:', end=' ')\n",
    "for i in range(0, TRIALS):\n",
    "    result = evolution(DEFAULT_PARAMS, ev_params, X, Y)\n",
    "    am_all_evals.append(result['evals'])\n",
    "    am_all_bests.append(result['final'][0])\n",
    "    am_stats.append(Counter.get().dict.copy())\n",
    "    print('{},'.format(i), end=' ')\n",
    "print('\\n')"
   ]
  },
  {
   "cell_type": "code",
   "execution_count": 8,
   "metadata": {},
   "outputs": [
    {
     "name": "stdout",
     "output_type": "stream",
     "text": [
      "Number of improving gem applications: 0\n",
      "Number of detoriorating gem applications: 0\n",
      "Number of same as parent applications: 0\n",
      "Total generations: 44064, avg: 881.28\n",
      "Average number of evaluations: 3528.84\n",
      "Average final fitness: 1017632715195.9712\n"
     ]
    }
   ],
   "source": [
    "print_evaluation(am_all_evals, am_all_bests, am_stats)"
   ]
  },
  {
   "cell_type": "markdown",
   "metadata": {},
   "source": [
    "## Single mutation\n",
    "\n",
    "Change random gene, until active gene is mutated."
   ]
  },
  {
   "cell_type": "code",
   "execution_count": 9,
   "metadata": {},
   "outputs": [
    {
     "name": "stdout",
     "output_type": "stream",
     "text": [
      "Iteration: 0, 1, 2, 3, 4, 5, 6, 7, 8, 9, 10, 11, 12, 13, 14, 15, 16, 17, 18, 19, 20, 21, 22, 23, 24, 25, 26, 27, 28, 29, 30, 31, 32, 33, 34, 35, 36, 37, 38, 39, 40, 41, 42, 43, 44, 45, 46, 47, 48, 49, \n",
      "\n",
      "CPU times: user 6min 52s, sys: 1.31 s, total: 6min 53s\n",
      "Wall time: 6min 55s\n"
     ]
    }
   ],
   "source": [
    "%%time\n",
    "\n",
    "random.seed(1)\n",
    "\n",
    "ev_params['mutation'] = single_mutation\n",
    "\n",
    "sm_all_evals = []\n",
    "sm_all_bests = []\n",
    "sm_stats = []\n",
    "\n",
    "print('Iteration:', end=' ')\n",
    "for i in range(0, TRIALS):\n",
    "    result = evolution(DEFAULT_PARAMS, ev_params, X, Y)\n",
    "    sm_all_evals.append(result['evals'])\n",
    "    sm_all_bests.append(result['final'][0])\n",
    "    sm_stats.append(Counter.get().dict.copy())\n",
    "    print('{},'.format(i), end=' ')\n",
    "print('\\n')"
   ]
  },
  {
   "cell_type": "code",
   "execution_count": 10,
   "metadata": {},
   "outputs": [
    {
     "name": "stdout",
     "output_type": "stream",
     "text": [
      "Number of improving gem applications: 0\n",
      "Number of detoriorating gem applications: 0\n",
      "Number of same as parent applications: 0\n",
      "Total generations: 32900, avg: 658.0\n",
      "Average number of evaluations: 2634.44\n",
      "Average final fitness: 338288803284.5329\n"
     ]
    }
   ],
   "source": [
    "print_evaluation(sm_all_evals, sm_all_bests, sm_stats)"
   ]
  },
  {
   "cell_type": "markdown",
   "metadata": {},
   "source": [
    "Single mutation seems to be the clear winner."
   ]
  },
  {
   "cell_type": "code",
   "execution_count": null,
   "metadata": {
    "collapsed": true
   },
   "outputs": [],
   "source": []
  },
  {
   "cell_type": "code",
   "execution_count": null,
   "metadata": {
    "collapsed": true
   },
   "outputs": [],
   "source": []
  }
 ],
 "metadata": {
  "kernelspec": {
   "display_name": "Python 3",
   "language": "python",
   "name": "python3"
  },
  "language_info": {
   "codemirror_mode": {
    "name": "ipython",
    "version": 3
   },
   "file_extension": ".py",
   "mimetype": "text/x-python",
   "name": "python",
   "nbconvert_exporter": "python",
   "pygments_lexer": "ipython3",
   "version": "3.6.2"
  }
 },
 "nbformat": 4,
 "nbformat_minor": 2
}
