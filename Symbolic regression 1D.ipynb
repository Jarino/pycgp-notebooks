{
 "cells": [
  {
   "cell_type": "markdown",
   "metadata": {},
   "source": [
    "# Symbolic regression\n",
    "\n",
    "For simple function $y(x) = x^4 + x^3 + x^2 + x$"
   ]
  },
  {
   "cell_type": "code",
   "execution_count": 1,
   "metadata": {
    "collapsed": true
   },
   "outputs": [],
   "source": [
    "import numpy as np\n",
    "import matplotlib.pyplot as plt\n",
    "%matplotlib inline"
   ]
  },
  {
   "cell_type": "markdown",
   "metadata": {},
   "source": [
    "Generate data "
   ]
  },
  {
   "cell_type": "code",
   "execution_count": 2,
   "metadata": {},
   "outputs": [],
   "source": [
    "X = np.arange(-50,50,0.5)\n",
    "Y = X**4 + X**3 + X**2 + X\n",
    "X = X.reshape(-1,1)\n",
    "TRIALS = 200"
   ]
  },
  {
   "cell_type": "markdown",
   "metadata": {},
   "source": [
    "Add pycgp"
   ]
  },
  {
   "cell_type": "code",
   "execution_count": 3,
   "metadata": {
    "collapsed": true
   },
   "outputs": [],
   "source": [
    "from pycgp.selection import truncation_selection\n",
    "from pycgp.mutation import point_mutation, active_mutation, single_mutation\n",
    "from pycgp.evolution import evolution\n",
    "from pycgp.params import DEFAULT_PARAMS"
   ]
  },
  {
   "cell_type": "markdown",
   "metadata": {},
   "source": [
    "Specify evolution parameters, along with fitness function."
   ]
  },
  {
   "cell_type": "code",
   "execution_count": 4,
   "metadata": {
    "collapsed": true
   },
   "outputs": [],
   "source": [
    "from sklearn.metrics import mean_squared_error\n",
    "\n",
    "ev_params = {\n",
    "  'cost_func': mean_squared_error,\n",
    "  'target_fitness': 0,\n",
    "  'gems': True,\n",
    "  'j_box_size': 50\n",
    "}\n"
   ]
  },
  {
   "cell_type": "markdown",
   "metadata": {},
   "source": [
    "Specify the cartesian program structure and create individual factory"
   ]
  },
  {
   "cell_type": "code",
   "execution_count": 5,
   "metadata": {
    "collapsed": true
   },
   "outputs": [],
   "source": [
    "DEFAULT_PARAMS['n_rows'] = 1\n",
    "DEFAULT_PARAMS['n_cols'] = 15\n",
    "DEFAULT_PARAMS['n_inputs'] = 1\n",
    "DEFAULT_PARAMS['n_outputs'] = 1"
   ]
  },
  {
   "cell_type": "code",
   "execution_count": 6,
   "metadata": {
    "collapsed": true
   },
   "outputs": [],
   "source": [
    "from pycgp.counter import Counter\n",
    "import random"
   ]
  },
  {
   "cell_type": "markdown",
   "metadata": {},
   "source": [
    "Create initial population and initial fitness"
   ]
  },
  {
   "cell_type": "code",
   "execution_count": 7,
   "metadata": {
    "scrolled": false
   },
   "outputs": [
    {
     "name": "stdout",
     "output_type": "stream",
     "text": [
      "iteration: 0, 1, 2, 3, 4, 5, 6, 7, 8, 9, 10, 11, 12, 13, 14, 15, 16, 17, 18, 19, 20, 21, 22, 23, 24, 25, 26, 27, 28, 29, 30, 31, 32, 33, 34, 35, 36, 37, 38, 39, 40, 41, 42, 43, 44, 45, 46, 47, 48, 49, 50, 51, 52, 53, 54, 55, 56, 57, 58, 59, 60, 61, 62, 63, 64, 65, 66, 67, 68, 69, 70, 71, 72, 73, 74, 75, 76, 77, 78, 79, 80, 81, 82, 83, 84, 85, 86, 87, 88, 89, 90, 91, 92, 93, 94, 95, 96, 97, 98, 99, 100, 101, 102, 103, 104, 105, 106, 107, 108, 109, 110, 111, 112, 113, 114, 115, 116, 117, 118, 119, 120, 121, 122, 123, 124, 125, 126, 127, 128, 129, 130, 131, 132, 133, 134, 135, 136, 137, 138, 139, 140, 141, 142, 143, 144, 145, 146, 147, 148, 149, 150, 151, 152, 153, 154, 155, 156, 157, 158, 159, 160, 161, 162, 163, 164, 165, 166, 167, 168, 169, 170, 171, 172, 173, 174, 175, 176, 177, 178, 179, 180, 181, 182, 183, 184, 185, 186, 187, 188, 189, 190, 191, 192, 193, 194, 195, 196, 197, 198, 199, \n",
      "\n",
      "CPU times: user 38min 8s, sys: 6.05 s, total: 38min 14s\n",
      "Wall time: 38min 57s\n"
     ]
    }
   ],
   "source": [
    "%%time\n",
    "\n",
    "random.seed(1)\n",
    "\n",
    "ev_params['gems'] = True\n",
    "\n",
    "gems_all_evals = []\n",
    "gems_all_bests = []\n",
    "gems_stats = []\n",
    "\n",
    "print('iteration:', end=' ')\n",
    "for i in range(0, TRIALS):\n",
    "    result = evolution(DEFAULT_PARAMS, ev_params, X, Y)\n",
    "    gems_all_evals.append(result['evals'])\n",
    "    gems_all_bests.append(result['final'][0])\n",
    "    gems_stats.append(Counter.get().dict.copy())\n",
    "    print('{},'.format(i), end=' ')\n",
    "print('\\n')"
   ]
  },
  {
   "cell_type": "code",
   "execution_count": 8,
   "metadata": {},
   "outputs": [
    {
     "name": "stdout",
     "output_type": "stream",
     "text": [
      "Number of improving gem applications: 70377\n",
      "Number of detoriorating gem applications: 151470\n",
      "Number of same as parent applications: 103338\n",
      "Total generations: 213031, avg: 1065.155\n",
      "Average number of evaluations: 3094.115\n",
      "Average final fitness: 264605138997.25055\n"
     ]
    }
   ],
   "source": [
    "print('Number of improving gem applications: {}'.format(sum([x['g_better'] for x in gems_stats])))\n",
    "print('Number of detoriorating gem applications: {}'.format(sum([x['g_worse'] for x in gems_stats])))\n",
    "print('Number of same as parent applications: {}'.format(sum([x['g_same_as_parent'] for x in gems_stats])))\n",
    "sum_of_gens = sum([x['gens'] for x in gems_stats])\n",
    "print('Total generations: {}, avg: {}'.format(sum_of_gens, sum_of_gens/TRIALS))\n",
    "print('Average number of evaluations: {}\\nAverage final fitness: {}'.format(\n",
    "    np.average(gems_all_evals), np.average([x.fitness for x in gems_all_bests])))\n"
   ]
  },
  {
   "cell_type": "code",
   "execution_count": 9,
   "metadata": {},
   "outputs": [
    {
     "data": {
      "text/plain": [
       "[{'g_better': 395, 'g_same_as_parent': 13, 'g_worse': 785, 'gens': 336},\n",
       " {'g_better': 671, 'g_same_as_parent': 2, 'g_worse': 5, 'gens': 1670},\n",
       " {'g_better': 141, 'g_same_as_parent': 62, 'g_worse': 337, 'gens': 252},\n",
       " {'g_better': 783, 'g_same_as_parent': 2031, 'g_worse': 15, 'gens': 3227},\n",
       " {'g_better': 461, 'g_same_as_parent': 238, 'g_worse': 35, 'gens': 2074},\n",
       " {'g_better': 72, 'g_same_as_parent': 1457, 'g_worse': 299, 'gens': 1253},\n",
       " {'g_better': 24, 'g_same_as_parent': 2, 'g_worse': 36, 'gens': 88},\n",
       " {'g_better': 10, 'g_same_as_parent': 1, 'g_worse': 38, 'gens': 381},\n",
       " {'g_better': 560, 'g_same_as_parent': 65, 'g_worse': 2534, 'gens': 877},\n",
       " {'g_better': 217, 'g_same_as_parent': 1009, 'g_worse': 11, 'gens': 2418},\n",
       " {'g_better': 195, 'g_same_as_parent': 1, 'g_worse': 2, 'gens': 2881},\n",
       " {'g_better': 26, 'g_same_as_parent': 0, 'g_worse': 2, 'gens': 224},\n",
       " {'g_better': 439, 'g_same_as_parent': 89, 'g_worse': 988, 'gens': 638},\n",
       " {'g_better': 52, 'g_same_as_parent': 314, 'g_worse': 353, 'gens': 214},\n",
       " {'g_better': 48, 'g_same_as_parent': 55, 'g_worse': 310, 'gens': 164},\n",
       " {'g_better': 43, 'g_same_as_parent': 1507, 'g_worse': 100, 'gens': 1572},\n",
       " {'g_better': 551, 'g_same_as_parent': 191, 'g_worse': 24, 'gens': 1670},\n",
       " {'g_better': 44, 'g_same_as_parent': 39, 'g_worse': 190, 'gens': 345},\n",
       " {'g_better': 709, 'g_same_as_parent': 243, 'g_worse': 81, 'gens': 1521},\n",
       " {'g_better': 19, 'g_same_as_parent': 0, 'g_worse': 4, 'gens': 207},\n",
       " {'g_better': 240, 'g_same_as_parent': 3826, 'g_worse': 65, 'gens': 2298},\n",
       " {'g_better': 68, 'g_same_as_parent': 15, 'g_worse': 160, 'gens': 182},\n",
       " {'g_better': 742, 'g_same_as_parent': 691, 'g_worse': 1520, 'gens': 823},\n",
       " {'g_better': 620, 'g_same_as_parent': 43, 'g_worse': 2813, 'gens': 928},\n",
       " {'g_better': 10, 'g_same_as_parent': 61, 'g_worse': 1, 'gens': 54},\n",
       " {'g_better': 921, 'g_same_as_parent': 205, 'g_worse': 1201, 'gens': 958},\n",
       " {'g_better': 5, 'g_same_as_parent': 0, 'g_worse': 2, 'gens': 199},\n",
       " {'g_better': 45, 'g_same_as_parent': 0, 'g_worse': 49, 'gens': 731},\n",
       " {'g_better': 31, 'g_same_as_parent': 0, 'g_worse': 1, 'gens': 192},\n",
       " {'g_better': 997, 'g_same_as_parent': 761, 'g_worse': 467, 'gens': 1522},\n",
       " {'g_better': 643, 'g_same_as_parent': 1712, 'g_worse': 1285, 'gens': 1443},\n",
       " {'g_better': 753, 'g_same_as_parent': 158, 'g_worse': 1637, 'gens': 1472},\n",
       " {'g_better': 443, 'g_same_as_parent': 0, 'g_worse': 103, 'gens': 1447},\n",
       " {'g_better': 478, 'g_same_as_parent': 893, 'g_worse': 1147, 'gens': 689},\n",
       " {'g_better': 292, 'g_same_as_parent': 3282, 'g_worse': 127, 'gens': 2420},\n",
       " {'g_better': 750, 'g_same_as_parent': 1247, 'g_worse': 147, 'gens': 1370},\n",
       " {'g_better': 420, 'g_same_as_parent': 611, 'g_worse': 2320, 'gens': 982},\n",
       " {'g_better': 170, 'g_same_as_parent': 218, 'g_worse': 7, 'gens': 1716},\n",
       " {'g_better': 716, 'g_same_as_parent': 193, 'g_worse': 646, 'gens': 2004},\n",
       " {'g_better': 485, 'g_same_as_parent': 531, 'g_worse': 449, 'gens': 2332},\n",
       " {'g_better': 164, 'g_same_as_parent': 5035, 'g_worse': 65, 'gens': 1990},\n",
       " {'g_better': 191, 'g_same_as_parent': 209, 'g_worse': 562, 'gens': 537},\n",
       " {'g_better': 657, 'g_same_as_parent': 133, 'g_worse': 23, 'gens': 1556},\n",
       " {'g_better': 261, 'g_same_as_parent': 55, 'g_worse': 1336, 'gens': 441},\n",
       " {'g_better': 484, 'g_same_as_parent': 915, 'g_worse': 20, 'gens': 1559},\n",
       " {'g_better': 174, 'g_same_as_parent': 0, 'g_worse': 19, 'gens': 2773},\n",
       " {'g_better': 1063, 'g_same_as_parent': 54, 'g_worse': 1118, 'gens': 936},\n",
       " {'g_better': 62, 'g_same_as_parent': 2, 'g_worse': 51, 'gens': 434},\n",
       " {'g_better': 0, 'g_same_as_parent': 0, 'g_worse': 2, 'gens': 34},\n",
       " {'g_better': 852, 'g_same_as_parent': 743, 'g_worse': 2090, 'gens': 955},\n",
       " {'g_better': 526, 'g_same_as_parent': 631, 'g_worse': 661, 'gens': 1782},\n",
       " {'g_better': 98, 'g_same_as_parent': 844, 'g_worse': 342, 'gens': 469},\n",
       " {'g_better': 572, 'g_same_as_parent': 24, 'g_worse': 2602, 'gens': 849},\n",
       " {'g_better': 289, 'g_same_as_parent': 3, 'g_worse': 79, 'gens': 2931},\n",
       " {'g_better': 777, 'g_same_as_parent': 545, 'g_worse': 1959, 'gens': 1137},\n",
       " {'g_better': 850, 'g_same_as_parent': 478, 'g_worse': 1931, 'gens': 861},\n",
       " {'g_better': 572, 'g_same_as_parent': 1566, 'g_worse': 2212, 'gens': 1401},\n",
       " {'g_better': 949, 'g_same_as_parent': 50, 'g_worse': 1954, 'gens': 909},\n",
       " {'g_better': 709, 'g_same_as_parent': 19, 'g_worse': 228, 'gens': 1345},\n",
       " {'g_better': 11, 'g_same_as_parent': 659, 'g_worse': 4, 'gens': 607},\n",
       " {'g_better': 402, 'g_same_as_parent': 113, 'g_worse': 3485, 'gens': 1062},\n",
       " {'g_better': 94, 'g_same_as_parent': 158, 'g_worse': 231, 'gens': 175},\n",
       " {'g_better': 2, 'g_same_as_parent': 0, 'g_worse': 0, 'gens': 882},\n",
       " {'g_better': 90, 'g_same_as_parent': 8, 'g_worse': 170, 'gens': 410},\n",
       " {'g_better': 159, 'g_same_as_parent': 187, 'g_worse': 3448, 'gens': 1031},\n",
       " {'g_better': 350, 'g_same_as_parent': 5297, 'g_worse': 429, 'gens': 3017},\n",
       " {'g_better': 612, 'g_same_as_parent': 2251, 'g_worse': 967, 'gens': 2592},\n",
       " {'g_better': 495, 'g_same_as_parent': 649, 'g_worse': 975, 'gens': 1788},\n",
       " {'g_better': 40, 'g_same_as_parent': 0, 'g_worse': 4, 'gens': 134},\n",
       " {'g_better': 805, 'g_same_as_parent': 1267, 'g_worse': 2144, 'gens': 1204},\n",
       " {'g_better': 24, 'g_same_as_parent': 2, 'g_worse': 2, 'gens': 57},\n",
       " {'g_better': 15, 'g_same_as_parent': 0, 'g_worse': 0, 'gens': 32},\n",
       " {'g_better': 68, 'g_same_as_parent': 6, 'g_worse': 268, 'gens': 99},\n",
       " {'g_better': 724, 'g_same_as_parent': 1655, 'g_worse': 1407, 'gens': 1055},\n",
       " {'g_better': 294, 'g_same_as_parent': 2797, 'g_worse': 595, 'gens': 1856},\n",
       " {'g_better': 157, 'g_same_as_parent': 0, 'g_worse': 11, 'gens': 878},\n",
       " {'g_better': 784, 'g_same_as_parent': 69, 'g_worse': 2537, 'gens': 907},\n",
       " {'g_better': 60, 'g_same_as_parent': 125, 'g_worse': 255, 'gens': 226},\n",
       " {'g_better': 502, 'g_same_as_parent': 759, 'g_worse': 311, 'gens': 1663},\n",
       " {'g_better': 520, 'g_same_as_parent': 134, 'g_worse': 3290, 'gens': 1128},\n",
       " {'g_better': 155, 'g_same_as_parent': 122, 'g_worse': 248, 'gens': 539},\n",
       " {'g_better': 987, 'g_same_as_parent': 1249, 'g_worse': 1112, 'gens': 1204},\n",
       " {'g_better': 450, 'g_same_as_parent': 285, 'g_worse': 4, 'gens': 1747},\n",
       " {'g_better': 275, 'g_same_as_parent': 69, 'g_worse': 1549, 'gens': 478},\n",
       " {'g_better': 29, 'g_same_as_parent': 552, 'g_worse': 70, 'gens': 230},\n",
       " {'g_better': 335, 'g_same_as_parent': 93, 'g_worse': 1377, 'gens': 496},\n",
       " {'g_better': 304, 'g_same_as_parent': 46, 'g_worse': 1039, 'gens': 423},\n",
       " {'g_better': 14, 'g_same_as_parent': 1, 'g_worse': 2, 'gens': 129},\n",
       " {'g_better': 138, 'g_same_as_parent': 0, 'g_worse': 1, 'gens': 2585},\n",
       " {'g_better': 42, 'g_same_as_parent': 0, 'g_worse': 0, 'gens': 619},\n",
       " {'g_better': 38, 'g_same_as_parent': 0, 'g_worse': 1, 'gens': 145},\n",
       " {'g_better': 574, 'g_same_as_parent': 1706, 'g_worse': 2096, 'gens': 1340},\n",
       " {'g_better': 92, 'g_same_as_parent': 14, 'g_worse': 750, 'gens': 504},\n",
       " {'g_better': 40, 'g_same_as_parent': 1, 'g_worse': 1, 'gens': 1002},\n",
       " {'g_better': 284, 'g_same_as_parent': 0, 'g_worse': 2, 'gens': 3365},\n",
       " {'g_better': 32, 'g_same_as_parent': 1, 'g_worse': 186, 'gens': 127},\n",
       " {'g_better': 28, 'g_same_as_parent': 5, 'g_worse': 40, 'gens': 53},\n",
       " {'g_better': 516, 'g_same_as_parent': 0, 'g_worse': 6, 'gens': 2276},\n",
       " {'g_better': 467, 'g_same_as_parent': 5147, 'g_worse': 1581, 'gens': 2106},\n",
       " {'g_better': 80, 'g_same_as_parent': 22, 'g_worse': 20, 'gens': 790},\n",
       " {'g_better': 88, 'g_same_as_parent': 281, 'g_worse': 11, 'gens': 327},\n",
       " {'g_better': 825, 'g_same_as_parent': 2084, 'g_worse': 627, 'gens': 1487},\n",
       " {'g_better': 769, 'g_same_as_parent': 290, 'g_worse': 2349, 'gens': 888},\n",
       " {'g_better': 94, 'g_same_as_parent': 210, 'g_worse': 396, 'gens': 473},\n",
       " {'g_better': 79, 'g_same_as_parent': 0, 'g_worse': 7, 'gens': 1183},\n",
       " {'g_better': 93, 'g_same_as_parent': 5, 'g_worse': 375, 'gens': 177},\n",
       " {'g_better': 109, 'g_same_as_parent': 47, 'g_worse': 598, 'gens': 331},\n",
       " {'g_better': 467, 'g_same_as_parent': 227, 'g_worse': 241, 'gens': 2422},\n",
       " {'g_better': 567, 'g_same_as_parent': 2175, 'g_worse': 2323, 'gens': 2340},\n",
       " {'g_better': 710, 'g_same_as_parent': 209, 'g_worse': 1674, 'gens': 850},\n",
       " {'g_better': 275, 'g_same_as_parent': 659, 'g_worse': 10, 'gens': 2282},\n",
       " {'g_better': 667, 'g_same_as_parent': 369, 'g_worse': 2535, 'gens': 1036},\n",
       " {'g_better': 609, 'g_same_as_parent': 65, 'g_worse': 2692, 'gens': 849},\n",
       " {'g_better': 629, 'g_same_as_parent': 128, 'g_worse': 2281, 'gens': 907},\n",
       " {'g_better': 48, 'g_same_as_parent': 0, 'g_worse': 17, 'gens': 690},\n",
       " {'g_better': 18, 'g_same_as_parent': 0, 'g_worse': 1, 'gens': 442},\n",
       " {'g_better': 73, 'g_same_as_parent': 0, 'g_worse': 2, 'gens': 632},\n",
       " {'g_better': 324, 'g_same_as_parent': 0, 'g_worse': 1, 'gens': 2126},\n",
       " {'g_better': 816, 'g_same_as_parent': 512, 'g_worse': 2398, 'gens': 1163},\n",
       " {'g_better': 560, 'g_same_as_parent': 102, 'g_worse': 3303, 'gens': 1185},\n",
       " {'g_better': 47, 'g_same_as_parent': 21, 'g_worse': 11, 'gens': 180},\n",
       " {'g_better': 21, 'g_same_as_parent': 38, 'g_worse': 5, 'gens': 190},\n",
       " {'g_better': 813, 'g_same_as_parent': 242, 'g_worse': 603, 'gens': 1328},\n",
       " {'g_better': 398, 'g_same_as_parent': 0, 'g_worse': 14, 'gens': 1852},\n",
       " {'g_better': 862, 'g_same_as_parent': 3, 'g_worse': 16, 'gens': 1905},\n",
       " {'g_better': 53, 'g_same_as_parent': 419, 'g_worse': 16, 'gens': 272},\n",
       " {'g_better': 168, 'g_same_as_parent': 210, 'g_worse': 719, 'gens': 310},\n",
       " {'g_better': 5, 'g_same_as_parent': 1, 'g_worse': 11, 'gens': 10},\n",
       " {'g_better': 36, 'g_same_as_parent': 351, 'g_worse': 2, 'gens': 281},\n",
       " {'g_better': 101, 'g_same_as_parent': 43, 'g_worse': 79, 'gens': 501},\n",
       " {'g_better': 669, 'g_same_as_parent': 1099, 'g_worse': 2477, 'gens': 1349},\n",
       " {'g_better': 489, 'g_same_as_parent': 34, 'g_worse': 3300, 'gens': 1004},\n",
       " {'g_better': 24, 'g_same_as_parent': 0, 'g_worse': 0, 'gens': 541},\n",
       " {'g_better': 16, 'g_same_as_parent': 237, 'g_worse': 2, 'gens': 248},\n",
       " {'g_better': 832, 'g_same_as_parent': 117, 'g_worse': 2872, 'gens': 1056},\n",
       " {'g_better': 564, 'g_same_as_parent': 457, 'g_worse': 2593, 'gens': 999},\n",
       " {'g_better': 601, 'g_same_as_parent': 311, 'g_worse': 11, 'gens': 1860},\n",
       " {'g_better': 381, 'g_same_as_parent': 1039, 'g_worse': 129, 'gens': 2341},\n",
       " {'g_better': 306, 'g_same_as_parent': 202, 'g_worse': 1023, 'gens': 629},\n",
       " {'g_better': 35, 'g_same_as_parent': 605, 'g_worse': 44, 'gens': 259},\n",
       " {'g_better': 4, 'g_same_as_parent': 0, 'g_worse': 0, 'gens': 18},\n",
       " {'g_better': 737, 'g_same_as_parent': 168, 'g_worse': 2223, 'gens': 885},\n",
       " {'g_better': 68, 'g_same_as_parent': 0, 'g_worse': 0, 'gens': 1639},\n",
       " {'g_better': 24, 'g_same_as_parent': 0, 'g_worse': 0, 'gens': 225},\n",
       " {'g_better': 10, 'g_same_as_parent': 1, 'g_worse': 10, 'gens': 36},\n",
       " {'g_better': 191, 'g_same_as_parent': 1458, 'g_worse': 241, 'gens': 1478},\n",
       " {'g_better': 542, 'g_same_as_parent': 596, 'g_worse': 101, 'gens': 1601},\n",
       " {'g_better': 36, 'g_same_as_parent': 1, 'g_worse': 17, 'gens': 104},\n",
       " {'g_better': 214, 'g_same_as_parent': 6620, 'g_worse': 91, 'gens': 2715},\n",
       " {'g_better': 419, 'g_same_as_parent': 932, 'g_worse': 648, 'gens': 763},\n",
       " {'g_better': 9, 'g_same_as_parent': 1, 'g_worse': 4, 'gens': 150},\n",
       " {'g_better': 17, 'g_same_as_parent': 0, 'g_worse': 0, 'gens': 129},\n",
       " {'g_better': 473, 'g_same_as_parent': 0, 'g_worse': 31, 'gens': 1670},\n",
       " {'g_better': 360, 'g_same_as_parent': 0, 'g_worse': 2, 'gens': 2309},\n",
       " {'g_better': 553, 'g_same_as_parent': 261, 'g_worse': 66, 'gens': 1684},\n",
       " {'g_better': 400, 'g_same_as_parent': 26, 'g_worse': 3105, 'gens': 912},\n",
       " {'g_better': 662, 'g_same_as_parent': 46, 'g_worse': 2758, 'gens': 881},\n",
       " {'g_better': 493, 'g_same_as_parent': 2019, 'g_worse': 2206, 'gens': 1333},\n",
       " {'g_better': 683, 'g_same_as_parent': 1109, 'g_worse': 1635, 'gens': 1210},\n",
       " {'g_better': 6, 'g_same_as_parent': 0, 'g_worse': 1, 'gens': 29},\n",
       " {'g_better': 725, 'g_same_as_parent': 14, 'g_worse': 2427, 'gens': 846},\n",
       " {'g_better': 162, 'g_same_as_parent': 225, 'g_worse': 145, 'gens': 728},\n",
       " {'g_better': 9, 'g_same_as_parent': 0, 'g_worse': 1, 'gens': 386},\n",
       " {'g_better': 424, 'g_same_as_parent': 1467, 'g_worse': 62, 'gens': 2564},\n",
       " {'g_better': 26, 'g_same_as_parent': 0, 'g_worse': 0, 'gens': 234},\n",
       " {'g_better': 856, 'g_same_as_parent': 1807, 'g_worse': 795, 'gens': 1911},\n",
       " {'g_better': 199, 'g_same_as_parent': 6, 'g_worse': 0, 'gens': 1112},\n",
       " {'g_better': 25, 'g_same_as_parent': 1, 'g_worse': 3, 'gens': 340},\n",
       " {'g_better': 268, 'g_same_as_parent': 1, 'g_worse': 2, 'gens': 1457},\n",
       " {'g_better': 605, 'g_same_as_parent': 91, 'g_worse': 2242, 'gens': 783},\n",
       " {'g_better': 651, 'g_same_as_parent': 74, 'g_worse': 58, 'gens': 1925},\n",
       " {'g_better': 782, 'g_same_as_parent': 2, 'g_worse': 7, 'gens': 2053},\n",
       " {'g_better': 630, 'g_same_as_parent': 1378, 'g_worse': 2445, 'gens': 1206},\n",
       " {'g_better': 41, 'g_same_as_parent': 441, 'g_worse': 14, 'gens': 221},\n",
       " {'g_better': 581, 'g_same_as_parent': 38, 'g_worse': 2689, 'gens': 881},\n",
       " {'g_better': 132, 'g_same_as_parent': 2393, 'g_worse': 16, 'gens': 2318},\n",
       " {'g_better': 622, 'g_same_as_parent': 183, 'g_worse': 2644, 'gens': 1010},\n",
       " {'g_better': 776, 'g_same_as_parent': 1150, 'g_worse': 305, 'gens': 1409},\n",
       " {'g_better': 467, 'g_same_as_parent': 218, 'g_worse': 571, 'gens': 1383},\n",
       " {'g_better': 365, 'g_same_as_parent': 754, 'g_worse': 2466, 'gens': 1437},\n",
       " {'g_better': 98, 'g_same_as_parent': 1, 'g_worse': 63, 'gens': 699},\n",
       " {'g_better': 354, 'g_same_as_parent': 2172, 'g_worse': 127, 'gens': 1153},\n",
       " {'g_better': 95, 'g_same_as_parent': 938, 'g_worse': 20, 'gens': 1541},\n",
       " {'g_better': 874, 'g_same_as_parent': 347, 'g_worse': 1727, 'gens': 1009},\n",
       " {'g_better': 11, 'g_same_as_parent': 0, 'g_worse': 38, 'gens': 36},\n",
       " {'g_better': 216, 'g_same_as_parent': 1036, 'g_worse': 522, 'gens': 760},\n",
       " {'g_better': 52, 'g_same_as_parent': 3, 'g_worse': 77, 'gens': 92},\n",
       " {'g_better': 897, 'g_same_as_parent': 110, 'g_worse': 808, 'gens': 1289},\n",
       " {'g_better': 900, 'g_same_as_parent': 554, 'g_worse': 1926, 'gens': 995},\n",
       " {'g_better': 3, 'g_same_as_parent': 0, 'g_worse': 0, 'gens': 19},\n",
       " {'g_better': 9, 'g_same_as_parent': 7, 'g_worse': 4, 'gens': 27},\n",
       " {'g_better': 522, 'g_same_as_parent': 425, 'g_worse': 1263, 'gens': 1887},\n",
       " {'g_better': 65, 'g_same_as_parent': 23, 'g_worse': 26, 'gens': 217},\n",
       " {'g_better': 240, 'g_same_as_parent': 0, 'g_worse': 0, 'gens': 2722},\n",
       " {'g_better': 571, 'g_same_as_parent': 343, 'g_worse': 2201, 'gens': 1202},\n",
       " {'g_better': 653, 'g_same_as_parent': 102, 'g_worse': 1686, 'gens': 1112},\n",
       " {'g_better': 401, 'g_same_as_parent': 580, 'g_worse': 1616, 'gens': 809},\n",
       " {'g_better': 355, 'g_same_as_parent': 931, 'g_worse': 684, 'gens': 2648},\n",
       " {'g_better': 818, 'g_same_as_parent': 369, 'g_worse': 2379, 'gens': 1286},\n",
       " {'g_better': 128, 'g_same_as_parent': 603, 'g_worse': 2336, 'gens': 1014}]"
      ]
     },
     "execution_count": 9,
     "metadata": {},
     "output_type": "execute_result"
    }
   ],
   "source": [
    "gems_stats"
   ]
  },
  {
   "cell_type": "markdown",
   "metadata": {},
   "source": [
    "Let's try without gems."
   ]
  },
  {
   "cell_type": "code",
   "execution_count": 10,
   "metadata": {},
   "outputs": [
    {
     "name": "stdout",
     "output_type": "stream",
     "text": [
      "iteration: 0, 1, 2, 3, 4, 5, 6, 7, 8, 9, 10, 11, 12, 13, 14, 15, 16, 17, 18, 19, 20, 21, 22, 23, 24, 25, 26, 27, 28, 29, 30, 31, 32, 33, 34, 35, 36, 37, 38, 39, 40, 41, 42, 43, 44, 45, 46, 47, 48, 49, 50, 51, 52, 53, 54, 55, 56, 57, 58, 59, 60, 61, 62, 63, 64, 65, 66, 67, 68, 69, 70, 71, 72, 73, 74, 75, 76, 77, 78, 79, 80, 81, 82, 83, 84, 85, 86, 87, 88, 89, 90, 91, 92, 93, 94, 95, 96, 97, 98, 99, 100, 101, 102, 103, 104, 105, 106, 107, 108, 109, 110, 111, 112, 113, 114, 115, 116, 117, 118, 119, 120, 121, 122, 123, 124, 125, 126, 127, 128, 129, 130, 131, 132, 133, 134, 135, 136, 137, 138, 139, 140, 141, 142, 143, 144, 145, 146, 147, 148, 149, 150, 151, 152, 153, 154, 155, 156, 157, 158, 159, 160, 161, 162, 163, 164, 165, 166, 167, 168, 169, 170, 171, 172, 173, 174, 175, 176, 177, 178, 179, 180, 181, 182, 183, 184, 185, 186, 187, 188, 189, 190, 191, 192, 193, 194, 195, 196, 197, 198, 199, \n",
      "\n",
      "CPU times: user 44min 13s, sys: 2.39 s, total: 44min 15s\n",
      "Wall time: 44min 17s\n"
     ]
    }
   ],
   "source": [
    "%%time\n",
    "\n",
    "random.seed(1)\n",
    "\n",
    "ev_params['gems'] = False\n",
    "\n",
    "all_evals = []\n",
    "all_bests = []\n",
    "stats = []\n",
    "print('iteration:', end=' ')\n",
    "for i in range(0,TRIALS):\n",
    "    result = evolution(DEFAULT_PARAMS, ev_params, X, Y)\n",
    "    all_evals.append(result['evals'])\n",
    "    all_bests.append(result['final'][0])\n",
    "    stats.append(Counter.get().dict.copy())\n",
    "    print('{},'.format(i), end=' ')\n",
    "print('\\n')"
   ]
  },
  {
   "cell_type": "code",
   "execution_count": 11,
   "metadata": {},
   "outputs": [
    {
     "name": "stdout",
     "output_type": "stream",
     "text": [
      "Number of improving gem applications: 0\n",
      "Number of detoriorating gem applications: 0\n",
      "Total generations: 306826, avg: 1534.13\n",
      "Average number of evaluations: 3148.26\n",
      "Average final fitness: 257253686257.93134\n"
     ]
    }
   ],
   "source": [
    "print('Number of improving gem applications: {}'.format(sum([x['g_better'] for x in stats])))\n",
    "print('Number of detoriorating gem applications: {}'.format(sum([x['g_worse'] for x in stats])))\n",
    "sum_of_gens = sum([x['gens'] for x in stats])\n",
    "print('Total generations: {}, avg: {}'.format(sum_of_gens, sum_of_gens/TRIALS))\n",
    "print('Average number of evaluations: {}\\nAverage final fitness: {}'.format(\n",
    "    np.average(all_evals), np.average([x.fitness for x in all_bests])))"
   ]
  },
  {
   "cell_type": "markdown",
   "metadata": {},
   "source": [
    "Now we should do Kolmogorov-Smirnov test. Null hypothesis means, that the samples are drawn from same distribution. If the pvalue is small (let's say less than 0.05), we reject the null hypothesis."
   ]
  },
  {
   "cell_type": "code",
   "execution_count": 12,
   "metadata": {},
   "outputs": [
    {
     "name": "stdout",
     "output_type": "stream",
     "text": [
      "Ks_2sampResult(statistic=0.125, pvalue=0.080917080808807579)\n"
     ]
    }
   ],
   "source": [
    "from scipy.stats import ks_2samp\n",
    "fitness_with_gems = [x.fitness for x in gems_all_bests]\n",
    "fitness_without_gems = [x.fitness for x in all_bests]\n",
    "print(ks_2samp(fitness_with_gems, fitness_without_gems))\n"
   ]
  },
  {
   "cell_type": "markdown",
   "metadata": {},
   "source": [
    "KS test on raw data leads to high p-value, so we can't reject the null hypothesis. Samples are probably drawn from same distribution, hence there is no significant gain with the gems extension."
   ]
  },
  {
   "cell_type": "code",
   "execution_count": 13,
   "metadata": {},
   "outputs": [
    {
     "data": {
      "text/plain": [
       "(array([ 181.,    6.,    1.,    0.,    1.,    0.,    2.,    2.,    4.,    3.]),\n",
       " array([  0.00000000e+00,   4.06106955e+11,   8.12213909e+11,\n",
       "          1.21832086e+12,   1.62442782e+12,   2.03053477e+12,\n",
       "          2.43664173e+12,   2.84274868e+12,   3.24885564e+12,\n",
       "          3.65496259e+12,   4.06106955e+12]),\n",
       " <a list of 10 Patch objects>)"
      ]
     },
     "execution_count": 13,
     "metadata": {},
     "output_type": "execute_result"
    },
    {
     "data": {
      "image/png": "[encoded data removed]",
      "text/plain": [
       "<matplotlib.figure.Figure at 0x7f0ad4f7ee10>"
      ]
     },
     "metadata": {},
     "output_type": "display_data"
    }
   ],
   "source": [
    "plt.hist(fitness_with_gems)"
   ]
  },
  {
   "cell_type": "code",
   "execution_count": 14,
   "metadata": {},
   "outputs": [
    {
     "data": {
      "text/plain": [
       "(array([ 183.,    7.,    2.,    0.,    0.,    0.,    3.,    2.,    0.,    3.]),\n",
       " array([  0.00000000e+00,   4.25741273e+11,   8.51482545e+11,\n",
       "          1.27722382e+12,   1.70296509e+12,   2.12870636e+12,\n",
       "          2.55444764e+12,   2.98018891e+12,   3.40593018e+12,\n",
       "          3.83167145e+12,   4.25741273e+12]),\n",
       " <a list of 10 Patch objects>)"
      ]
     },
     "execution_count": 14,
     "metadata": {},
     "output_type": "execute_result"
    },
    {
     "data": {
      "image/png": "[encoded data removed]",
      "text/plain": [
       "<matplotlib.figure.Figure at 0x7f0acce8f3c8>"
      ]
     },
     "metadata": {},
     "output_type": "display_data"
    }
   ],
   "source": [
    "plt.hist(fitness_without_gems)"
   ]
  },
  {
   "cell_type": "code",
   "execution_count": null,
   "metadata": {
    "collapsed": true
   },
   "outputs": [],
   "source": []
  }
 ],
 "metadata": {
  "kernelspec": {
   "display_name": "Python 3",
   "language": "python",
   "name": "python3"
  },
  "language_info": {
   "codemirror_mode": {
    "name": "ipython",
    "version": 3
   },
   "file_extension": ".py",
   "mimetype": "text/x-python",
   "name": "python",
   "nbconvert_exporter": "python",
   "pygments_lexer": "ipython3",
   "version": "3.6.2"
  }
 },
 "nbformat": 4,
 "nbformat_minor": 2
}
