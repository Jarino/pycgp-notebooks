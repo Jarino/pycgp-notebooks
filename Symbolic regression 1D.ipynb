{
 "cells": [
  {
   "cell_type": "markdown",
   "metadata": {},
   "source": [
    "# Symbolic regression\n",
    "\n",
    "For simple function $y(x) = x^4 + x^3 + x^2 + x$"
   ]
  },
  {
   "cell_type": "code",
   "execution_count": 1,
   "metadata": {
    "collapsed": true
   },
   "outputs": [],
   "source": [
    "import numpy as np\n",
    "import matplotlib.pyplot as plt\n",
    "%matplotlib inline"
   ]
  },
  {
   "cell_type": "markdown",
   "metadata": {},
   "source": [
    "Generate data "
   ]
  },
  {
   "cell_type": "code",
   "execution_count": 2,
   "metadata": {
    "collapsed": true
   },
   "outputs": [],
   "source": [
    "x_range = np.arange(-50,50,0.5)\n",
    "y_pure = x_range**4 + x_range**3 + x_range**2 + x_range\n",
    "\n",
    "# add some noise\n",
    "# y = y_pure + np.random.randint(-500,500,x_range.size)\n",
    "y = y_pure"
   ]
  },
  {
   "cell_type": "code",
   "execution_count": 3,
   "metadata": {},
   "outputs": [
    {
     "data": {
      "text/plain": [
       "[<matplotlib.lines.Line2D at 0x7fbe0ed42438>]"
      ]
     },
     "execution_count": 3,
     "metadata": {},
     "output_type": "execute_result"
    },
    {
     "data": {
      "image/png": "[encoded data removed]",
      "text/plain": [
       "<matplotlib.figure.Figure at 0x7fbe16e156d8>"
      ]
     },
     "metadata": {},
     "output_type": "display_data"
    }
   ],
   "source": [
    "plt.plot(x_range, y_pure)\n",
    "#plt.scatter(x_range, y)"
   ]
  },
  {
   "cell_type": "markdown",
   "metadata": {},
   "source": [
    "Add pycgp"
   ]
  },
  {
   "cell_type": "code",
   "execution_count": 4,
   "metadata": {
    "collapsed": true
   },
   "outputs": [],
   "source": [
    "from pycgp.individual_builder import IndividualBuilder\n",
    "from pycgp.selection import truncation_selection\n",
    "from pycgp.mutation import point_mutation, active_mutation, single_mutation\n",
    "from pycgp.params import DEFAULT_PARAMS"
   ]
  },
  {
   "cell_type": "markdown",
   "metadata": {},
   "source": [
    "Specify evolution parameters"
   ]
  },
  {
   "cell_type": "code",
   "execution_count": 5,
   "metadata": {
    "collapsed": true
   },
   "outputs": [],
   "source": [
    "NPOP = 5 # number of individuals in population\n",
    "GENS = 1000 # number of generations"
   ]
  },
  {
   "cell_type": "markdown",
   "metadata": {},
   "source": [
    "Specify the cartesian program structure and create individual factory"
   ]
  },
  {
   "cell_type": "code",
   "execution_count": 6,
   "metadata": {
    "collapsed": true
   },
   "outputs": [],
   "source": [
    "DEFAULT_PARAMS['n_rows'] = 1\n",
    "DEFAULT_PARAMS['n_cols'] = 10\n",
    "DEFAULT_PARAMS['n_inputs'] = 1\n",
    "DEFAULT_PARAMS['n_outputs'] = 1\n",
    "builder = IndividualBuilder(DEFAULT_PARAMS)"
   ]
  },
  {
   "cell_type": "markdown",
   "metadata": {},
   "source": [
    "Choose fitness function"
   ]
  },
  {
   "cell_type": "code",
   "execution_count": 7,
   "metadata": {
    "collapsed": true
   },
   "outputs": [],
   "source": [
    "from sklearn.metrics import mean_squared_error\n",
    "fitness_function = mean_squared_error"
   ]
  },
  {
   "cell_type": "markdown",
   "metadata": {},
   "source": [
    "Create initial population and initial fitness"
   ]
  },
  {
   "cell_type": "code",
   "execution_count": 8,
   "metadata": {
    "scrolled": true
   },
   "outputs": [
    {
     "name": "stdout",
     "output_type": "stream",
     "text": [
      "0 4.34176365878e+12\n",
      "500 833.375\n",
      "625 0.0\n"
     ]
    }
   ],
   "source": [
    "population = [builder.build() for _ in range(0, NPOP)]\n",
    "prev_fitness = 0\n",
    "X = np.array([x_range]).T\n",
    "\n",
    "for gen in range(0, GENS):\n",
    "    output = [i.execute(X) for i in population]\n",
    "    \n",
    "    fitnesses = []\n",
    "    for index, y_pred in enumerate(output):\n",
    "        fit = fitness_function(y, y_pred)\n",
    "        fitnesses.append(fit)\n",
    "    \n",
    "    parent, parent_fitness = truncation_selection(population, fitnesses, 1)[0]\n",
    "    \n",
    "    if parent_fitness < 0.001:\n",
    "        break\n",
    "    \n",
    "    if gen % 500 == 0:\n",
    "        print(gen, parent_fitness)\n",
    "    \n",
    "    population = [point_mutation(parent) for _ in range(0, NPOP-1)] + [parent]\n",
    "    \n",
    "print(gen, parent_fitness)"
   ]
  },
  {
   "cell_type": "code",
   "execution_count": 9,
   "metadata": {},
   "outputs": [
    {
     "name": "stdout",
     "output_type": "stream",
     "text": [
      "individuals: \n",
      "fsum(fsum(fsum(fmul(fmul(x0,x0),fmul(x0,x0)),x0),fmul(x0,x0)),fmul(x0,fmul(x0,x0))) 0.0\n",
      "[2, 0, 0, 2, 1, 1, 0, 2, 0, 2, 0, 1, 0, 3, 1, 3, 2, 3, 0, 5, 4, 2, 5, 4, 0, 0, 7, 0, 5, 8, 7]\n"
     ]
    }
   ],
   "source": [
    "output = [i.execute(X) for i in population]\n",
    "fitness = [fitness_function(y, y_pred) for y_pred in output]\n",
    "\n",
    "spop = sorted(zip(population, fitness, output), key=lambda x: x[1])\n",
    "\n",
    "print('individuals: ')\n",
    "for ind, fit, _ in spop[0:1]:\n",
    "    print(ind, fit)\n",
    "    print(ind.genes)"
   ]
  },
  {
   "cell_type": "code",
   "execution_count": 11,
   "metadata": {},
   "outputs": [
    {
     "data": {
      "text/plain": [
       "[<matplotlib.lines.Line2D at 0x7fbe085d5e48>]"
      ]
     },
     "execution_count": 11,
     "metadata": {},
     "output_type": "execute_result"
    },
    {
     "data": {
      "image/png": "[encoded data removed]",
      "text/plain": [
       "<matplotlib.figure.Figure at 0x7fbe085d5ac8>"
      ]
     },
     "metadata": {},
     "output_type": "display_data"
    }
   ],
   "source": [
    "#plt.scatter(x_range, y, label='sample data')\n",
    "plt.plot(x_range, y_pure, label='ground truth')\n",
    "plt.plot(x_range, np.array(spop[0][2]).ravel(), label='cgp')"
   ]
  },
  {
   "cell_type": "code",
   "execution_count": null,
   "metadata": {
    "collapsed": true
   },
   "outputs": [],
   "source": []
  }
 ],
 "metadata": {
  "kernelspec": {
   "display_name": "Python 3",
   "language": "python",
   "name": "python3"
  },
  "language_info": {
   "codemirror_mode": {
    "name": "ipython",
    "version": 3
   },
   "file_extension": ".py",
   "mimetype": "text/x-python",
   "name": "python",
   "nbconvert_exporter": "python",
   "pygments_lexer": "ipython3",
   "version": "3.6.2"
  }
 },
 "nbformat": 4,
 "nbformat_minor": 2
}
