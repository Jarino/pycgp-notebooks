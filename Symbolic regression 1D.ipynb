{
 "cells": [
  {
   "cell_type": "markdown",
   "metadata": {},
   "source": [
    "# Symbolic regression\n",
    "\n",
    "For simple function $y(x) = x^4 + x^3 + x^2 + x$"
   ]
  },
  {
   "cell_type": "code",
   "execution_count": 1,
   "metadata": {
    "collapsed": true
   },
   "outputs": [],
   "source": [
    "import numpy as np\n",
    "import matplotlib.pyplot as plt\n",
    "%matplotlib inline"
   ]
  },
  {
   "cell_type": "markdown",
   "metadata": {},
   "source": [
    "Generate data "
   ]
  },
  {
   "cell_type": "code",
   "execution_count": 2,
   "metadata": {},
   "outputs": [],
   "source": [
    "X = np.arange(-50,50,0.5)\n",
    "Y = X**4 + X**3 + X**2 + X\n",
    "X = X.reshape(-1,1)\n",
    "TRIALS = 200"
   ]
  },
  {
   "cell_type": "markdown",
   "metadata": {},
   "source": [
    "Add pycgp"
   ]
  },
  {
   "cell_type": "code",
   "execution_count": 3,
   "metadata": {
    "collapsed": true
   },
   "outputs": [],
   "source": [
    "from pycgp.selection import truncation_selection\n",
    "from pycgp.mutation import point_mutation, active_mutation, single_mutation\n",
    "from pycgp.evolution import evolution\n",
    "from pycgp.params import DEFAULT_PARAMS"
   ]
  },
  {
   "cell_type": "markdown",
   "metadata": {},
   "source": [
    "Specify evolution parameters, along with fitness function."
   ]
  },
  {
   "cell_type": "code",
   "execution_count": 4,
   "metadata": {
    "collapsed": true
   },
   "outputs": [],
   "source": [
    "from sklearn.metrics import mean_squared_error\n",
    "\n",
    "ev_params = {\n",
    "  'cost_func': mean_squared_error,\n",
    "  'target_fitness': 0,\n",
    "  'gems': True,\n",
    "  'j_box_size': 50\n",
    "}\n"
   ]
  },
  {
   "cell_type": "markdown",
   "metadata": {},
   "source": [
    "Specify the cartesian program structure and create individual factory"
   ]
  },
  {
   "cell_type": "code",
   "execution_count": 5,
   "metadata": {
    "collapsed": true
   },
   "outputs": [],
   "source": [
    "DEFAULT_PARAMS['n_rows'] = 1\n",
    "DEFAULT_PARAMS['n_cols'] = 15\n",
    "DEFAULT_PARAMS['n_inputs'] = 1\n",
    "DEFAULT_PARAMS['n_outputs'] = 1"
   ]
  },
  {
   "cell_type": "code",
   "execution_count": 6,
   "metadata": {
    "collapsed": true
   },
   "outputs": [],
   "source": [
    "from pycgp.counter import Counter\n",
    "import random"
   ]
  },
  {
   "cell_type": "markdown",
   "metadata": {},
   "source": [
    "Create initial population and initial fitness"
   ]
  },
  {
   "cell_type": "code",
   "execution_count": 7,
   "metadata": {
    "scrolled": false
   },
   "outputs": [
    {
     "name": "stdout",
     "output_type": "stream",
     "text": [
      "iteration: 0, 1, 2, 3, 4, 5, 6, 7, 8, 9, 10, 11, 12, 13, 14, 15, 16, 17, 18, 19, 20, 21, 22, 23, 24, 25, 26, 27, 28, 29, 30, 31, 32, 33, 34, 35, 36, 37, 38, 39, 40, 41, 42, 43, 44, 45, 46, 47, 48, 49, 50, 51, 52, 53, 54, 55, 56, 57, 58, 59, 60, 61, 62, 63, 64, 65, 66, 67, 68, 69, 70, 71, 72, 73, 74, 75, 76, 77, 78, 79, 80, 81, 82, 83, 84, 85, 86, 87, 88, 89, 90, 91, 92, 93, 94, 95, 96, 97, 98, 99, 100, 101, 102, 103, 104, 105, 106, 107, 108, 109, 110, 111, 112, 113, 114, 115, 116, 117, 118, 119, 120, 121, 122, 123, 124, 125, 126, 127, 128, 129, 130, 131, 132, 133, 134, 135, 136, 137, 138, 139, 140, 141, 142, 143, 144, 145, 146, 147, 148, 149, 150, 151, 152, 153, 154, 155, 156, 157, 158, 159, 160, 161, 162, 163, 164, 165, 166, 167, 168, 169, 170, 171, 172, 173, 174, 175, 176, 177, 178, 179, 180, 181, 182, 183, 184, 185, 186, 187, 188, 189, 190, 191, 192, 193, 194, 195, 196, 197, 198, 199, \n",
      "\n",
      "CPU times: user 38min 8s, sys: 6.05 s, total: 38min 14s\n",
      "Wall time: 38min 57s\n"
     ]
    }
   ],
   "source": [
    "%%time\n",
    "\n",
    "random.seed(1)\n",
    "\n",
    "ev_params['gems'] = True\n",
    "\n",
    "gems_all_evals = []\n",
    "gems_all_bests = []\n",
    "gems_stats = []\n",
    "\n",
    "print('iteration:', end=' ')\n",
    "for i in range(0, TRIALS):\n",
    "    result = evolution(DEFAULT_PARAMS, ev_params, X, Y)\n",
    "    gems_all_evals.append(result['evals'])\n",
    "    gems_all_bests.append(result['final'][0])\n",
    "    gems_stats.append(Counter.get().dict.copy())\n",
    "    print('{},'.format(i), end=' ')\n",
    "print('\\n')"
   ]
  },
  {
   "cell_type": "code",
   "execution_count": 8,
   "metadata": {},
   "outputs": [
    {
     "name": "stdout",
     "output_type": "stream",
     "text": [
      "Number of improving gem applications: 70377\n",
      "Number of detoriorating gem applications: 151470\n",
      "Number of same as parent applications: 103338\n",
      "Total generations: 213031, avg: 1065.155\n",
      "Average number of evaluations: 3094.115\n",
      "Average final fitness: 264605138997.25055\n"
     ]
    }
   ],
   "source": [
    "print('Number of improving gem applications: {}'.format(sum([x['g_better'] for x in gems_stats])))\n",
    "print('Number of detoriorating gem applications: {}'.format(sum([x['g_worse'] for x in gems_stats])))\n",
    "print('Number of same as parent applications: {}'.format(sum([x['g_same_as_parent'] for x in gems_stats])))\n",
    "sum_of_gens = sum([x['gens'] for x in gems_stats])\n",
    "print('Total generations: {}, avg: {}'.format(sum_of_gens, sum_of_gens/TRIALS))\n",
    "print('Average number of evaluations: {}\\nAverage final fitness: {}'.format(\n",
    "    np.average(gems_all_evals), np.average([x.fitness for x in gems_all_bests])))\n"
   ]
  },
  {
   "cell_type": "markdown",
   "metadata": {},
   "source": [
    "Let's try without gems."
   ]
  },
  {
   "cell_type": "code",
   "execution_count": 10,
   "metadata": {},
   "outputs": [
    {
     "name": "stdout",
     "output_type": "stream",
     "text": [
      "iteration: 0, 1, 2, 3, 4, 5, 6, 7, 8, 9, 10, 11, 12, 13, 14, 15, 16, 17, 18, 19, 20, 21, 22, 23, 24, 25, 26, 27, 28, 29, 30, 31, 32, 33, 34, 35, 36, 37, 38, 39, 40, 41, 42, 43, 44, 45, 46, 47, 48, 49, 50, 51, 52, 53, 54, 55, 56, 57, 58, 59, 60, 61, 62, 63, 64, 65, 66, 67, 68, 69, 70, 71, 72, 73, 74, 75, 76, 77, 78, 79, 80, 81, 82, 83, 84, 85, 86, 87, 88, 89, 90, 91, 92, 93, 94, 95, 96, 97, 98, 99, 100, 101, 102, 103, 104, 105, 106, 107, 108, 109, 110, 111, 112, 113, 114, 115, 116, 117, 118, 119, 120, 121, 122, 123, 124, 125, 126, 127, 128, 129, 130, 131, 132, 133, 134, 135, 136, 137, 138, 139, 140, 141, 142, 143, 144, 145, 146, 147, 148, 149, 150, 151, 152, 153, 154, 155, 156, 157, 158, 159, 160, 161, 162, 163, 164, 165, 166, 167, 168, 169, 170, 171, 172, 173, 174, 175, 176, 177, 178, 179, 180, 181, 182, 183, 184, 185, 186, 187, 188, 189, 190, 191, 192, 193, 194, 195, 196, 197, 198, 199, \n",
      "\n",
      "CPU times: user 44min 13s, sys: 2.39 s, total: 44min 15s\n",
      "Wall time: 44min 17s\n"
     ]
    }
   ],
   "source": [
    "%%time\n",
    "\n",
    "random.seed(1)\n",
    "\n",
    "ev_params['gems'] = False\n",
    "\n",
    "all_evals = []\n",
    "all_bests = []\n",
    "stats = []\n",
    "print('iteration:', end=' ')\n",
    "for i in range(0,TRIALS):\n",
    "    result = evolution(DEFAULT_PARAMS, ev_params, X, Y)\n",
    "    all_evals.append(result['evals'])\n",
    "    all_bests.append(result['final'][0])\n",
    "    stats.append(Counter.get().dict.copy())\n",
    "    print('{},'.format(i), end=' ')\n",
    "print('\\n')"
   ]
  },
  {
   "cell_type": "code",
   "execution_count": 11,
   "metadata": {},
   "outputs": [
    {
     "name": "stdout",
     "output_type": "stream",
     "text": [
      "Number of improving gem applications: 0\n",
      "Number of detoriorating gem applications: 0\n",
      "Total generations: 306826, avg: 1534.13\n",
      "Average number of evaluations: 3148.26\n",
      "Average final fitness: 257253686257.93134\n"
     ]
    }
   ],
   "source": [
    "print('Number of improving gem applications: {}'.format(sum([x['g_better'] for x in stats])))\n",
    "print('Number of detoriorating gem applications: {}'.format(sum([x['g_worse'] for x in stats])))\n",
    "sum_of_gens = sum([x['gens'] for x in stats])\n",
    "print('Total generations: {}, avg: {}'.format(sum_of_gens, sum_of_gens/TRIALS))\n",
    "print('Average number of evaluations: {}\\nAverage final fitness: {}'.format(\n",
    "    np.average(all_evals), np.average([x.fitness for x in all_bests])))"
   ]
  },
  {
   "cell_type": "markdown",
   "metadata": {},
   "source": [
    "Now we should do Kolmogorov-Smirnov test. Null hypothesis means, that the samples are drawn from same distribution. If the pvalue is small (let's say less than 0.05), we reject the null hypothesis."
   ]
  },
  {
   "cell_type": "code",
   "execution_count": 12,
   "metadata": {},
   "outputs": [
    {
     "name": "stdout",
     "output_type": "stream",
     "text": [
      "Ks_2sampResult(statistic=0.125, pvalue=0.080917080808807579)\n"
     ]
    }
   ],
   "source": [
    "from scipy.stats import ks_2samp\n",
    "fitness_with_gems = [x.fitness for x in gems_all_bests]\n",
    "fitness_without_gems = [x.fitness for x in all_bests]\n",
    "print(ks_2samp(fitness_with_gems, fitness_without_gems))\n"
   ]
  },
  {
   "cell_type": "markdown",
   "metadata": {},
   "source": [
    "KS test on raw data leads to high p-value, so we can't reject the null hypothesis. Samples are probably drawn from same distribution, hence there is no significant gain with the gems extension."
   ]
  },
  {
   "cell_type": "code",
   "execution_count": 13,
   "metadata": {},
   "outputs": [
    {
     "data": {
      "text/plain": [
       "(array([ 181.,    6.,    1.,    0.,    1.,    0.,    2.,    2.,    4.,    3.]),\n",
       " array([  0.00000000e+00,   4.06106955e+11,   8.12213909e+11,\n",
       "          1.21832086e+12,   1.62442782e+12,   2.03053477e+12,\n",
       "          2.43664173e+12,   2.84274868e+12,   3.24885564e+12,\n",
       "          3.65496259e+12,   4.06106955e+12]),\n",
       " <a list of 10 Patch objects>)"
      ]
     },
     "execution_count": 13,
     "metadata": {},
     "output_type": "execute_result"
    },
    {
     "data": {
      "image/png": "[encoded data removed]",
      "text/plain": [
       "<matplotlib.figure.Figure at 0x7f0ad4f7ee10>"
      ]
     },
     "metadata": {},
     "output_type": "display_data"
    }
   ],
   "source": [
    "plt.hist(fitness_with_gems)"
   ]
  },
  {
   "cell_type": "code",
   "execution_count": 14,
   "metadata": {},
   "outputs": [
    {
     "data": {
      "text/plain": [
       "(array([ 183.,    7.,    2.,    0.,    0.,    0.,    3.,    2.,    0.,    3.]),\n",
       " array([  0.00000000e+00,   4.25741273e+11,   8.51482545e+11,\n",
       "          1.27722382e+12,   1.70296509e+12,   2.12870636e+12,\n",
       "          2.55444764e+12,   2.98018891e+12,   3.40593018e+12,\n",
       "          3.83167145e+12,   4.25741273e+12]),\n",
       " <a list of 10 Patch objects>)"
      ]
     },
     "execution_count": 14,
     "metadata": {},
     "output_type": "execute_result"
    },
    {
     "data": {
      "image/png": "[encoded data removed]",
      "text/plain": [
       "<matplotlib.figure.Figure at 0x7f0acce8f3c8>"
      ]
     },
     "metadata": {},
     "output_type": "display_data"
    }
   ],
   "source": [
    "plt.hist(fitness_without_gems)"
   ]
  },
  {
   "cell_type": "code",
   "execution_count": null,
   "metadata": {
    "collapsed": true
   },
   "outputs": [],
   "source": []
  }
 ],
 "metadata": {
  "kernelspec": {
   "display_name": "Python 3",
   "language": "python",
   "name": "python3"
  },
  "language_info": {
   "codemirror_mode": {
    "name": "ipython",
    "version": 3
   },
   "file_extension": ".py",
   "mimetype": "text/x-python",
   "name": "python",
   "nbconvert_exporter": "python",
   "pygments_lexer": "ipython3",
   "version": "3.6.2"
  }
 },
 "nbformat": 4,
 "nbformat_minor": 2
}
