{
 "cells": [
  {
   "cell_type": "code",
   "execution_count": 1,
   "metadata": {
    "collapsed": true
   },
   "outputs": [],
   "source": [
    "import random\n",
    "\n",
    "import numpy as np\n",
    "\n",
    "import seaborn as sns\n",
    "import matplotlib.pyplot as plt\n",
    "%matplotlib inline\n",
    "\n"
   ]
  },
  {
   "cell_type": "code",
   "execution_count": 2,
   "metadata": {
    "collapsed": true
   },
   "outputs": [],
   "source": [
    "from sklearn.utils import check_random_state\n",
    "\n",
    "rng = check_random_state(0)\n",
    "\n",
    "# Training samples\n",
    "X_train = rng.uniform(-50, 50, 100)\n",
    "y_train = X_train**4 + X_train**3 + X_train**2 + X_train\n",
    "\n",
    "# Test samples\n",
    "X_test = rng.uniform(-50, 50, 100)\n",
    "y_test = X_test**4 + X_test**3 + X_test**2 + X_test"
   ]
  },
  {
   "cell_type": "markdown",
   "metadata": {},
   "source": [
    "Add PyCGP into the mix, along with single mutation, its gem and match strategy."
   ]
  },
  {
   "cell_type": "code",
   "execution_count": 3,
   "metadata": {},
   "outputs": [],
   "source": [
    "from pycgp.evolution import evolution\n",
    "from pycgp.mutation import single_mutation\n",
    "from pycgp.gems import GemSM, MatchSMStrategy\n",
    "from pycgp.counter import Counter\n",
    "from pycgp.params import DEFAULT_PARAMS"
   ]
  },
  {
   "cell_type": "code",
   "execution_count": 4,
   "metadata": {},
   "outputs": [],
   "source": [
    "from sklearn.metrics import mean_squared_error\n",
    "\n",
    "ev_params = {\n",
    "  'cost_func': mean_squared_error,\n",
    "  'target_fitness': 0,\n",
    "  'gems': True,\n",
    "  'j_box_size': 50,\n",
    "  'gem_type': GemSM,\n",
    "  'match_strategy': MatchSMStrategy,\n",
    "    'mutation': single_mutation\n",
    "}\n",
    "\n",
    "TRIALS = 50"
   ]
  },
  {
   "cell_type": "code",
   "execution_count": 5,
   "metadata": {
    "collapsed": true
   },
   "outputs": [],
   "source": [
    "DEFAULT_PARAMS['n_rows'] = 1\n",
    "DEFAULT_PARAMS['n_cols'] = 15\n",
    "DEFAULT_PARAMS['n_inputs'] = 1\n",
    "DEFAULT_PARAMS['n_outputs'] = 1"
   ]
  },
  {
   "cell_type": "code",
   "execution_count": 6,
   "metadata": {
    "collapsed": true
   },
   "outputs": [],
   "source": [
    "def print_evaluation(all_evals, all_bests, stats, scores):\n",
    "    print('Number of improving gem applications: {}'.format(sum([x['g_better'] for x in stats])))\n",
    "    print('Number of detoriorating gem applications: {}'.format(sum([x['g_worse'] for x in stats])))\n",
    "    print('Number of same as parent applications: {}'.format(sum([x['g_same_as_parent'] for x in stats])))\n",
    "    sum_of_gens = sum([x['gens'] for x in stats])\n",
    "    print('Total generations: {}, avg: {}'.format(sum_of_gens, sum_of_gens/TRIALS))\n",
    "    print('Average number of evaluations: {}\\nAverage final fitness: {}'.format(\n",
    "        np.average(all_evals), np.average([x.fitness for x in all_bests])))\n",
    "    print('Average score on test: {}'.format(np.average(scores)))"
   ]
  },
  {
   "cell_type": "code",
   "execution_count": 7,
   "metadata": {},
   "outputs": [
    {
     "name": "stdout",
     "output_type": "stream",
     "text": [
      "iteration: 0, 1, 2, 3, 4, 5, 6, 7, 8, 9, 10, 11, 12, 13, 14, 15, 16, 17, 18, 19, 20, 21, 22, 23, 24, 25, 26, 27, 28, 29, 30, 31, 32, 33, 34, 35, 36, 37, 38, 39, 40, 41, 42, 43, 44, 45, 46, 47, 48, 49, \n",
      "\n",
      "CPU times: user 9min 31s, sys: 2.11 s, total: 9min 33s\n",
      "Wall time: 9min 44s\n"
     ]
    }
   ],
   "source": [
    "%%time\n",
    "\n",
    "random.seed(1)\n",
    "\n",
    "ev_params['gems'] = False\n",
    "\n",
    "all_evals = []\n",
    "all_bests = []\n",
    "stats = []\n",
    "scores = []\n",
    "\n",
    "print('iteration:', end=' ')\n",
    "for i in range(0, TRIALS):\n",
    "    result = evolution(DEFAULT_PARAMS, ev_params, X_train.reshape(-1,1), y_train)\n",
    "    all_evals.append(result['evals'])\n",
    "    best_individual = result['final'][0]\n",
    "    all_bests.append(best_individual)\n",
    "    stats.append(Counter.get().dict.copy())\n",
    "    \n",
    "    output = best_individual.execute(X_test.reshape(-1,1))\n",
    "    score = mean_squared_error(output, y_test)\n",
    "    scores.append(score)\n",
    "    \n",
    "    print('{},'.format(i), end=' ')\n",
    "print('\\n')"
   ]
  },
  {
   "cell_type": "code",
   "execution_count": 8,
   "metadata": {},
   "outputs": [
    {
     "name": "stdout",
     "output_type": "stream",
     "text": [
      "Number of improving gem applications: 0\n",
      "Number of detoriorating gem applications: 0\n",
      "Number of same as parent applications: 0\n",
      "Total generations: 62450, avg: 1249.0\n",
      "Average number of evaluations: 5001.0\n",
      "Average final fitness: 795441882352.8032\n",
      "Average score on test: 709436128184.5227\n"
     ]
    },
    {
     "data": {
      "text/plain": [
       "array([[  1.92893445e+16,   4.56860695e+12,   4.58127815e+12, ...,\n",
       "          1.82559130e+12,   1.58985855e+19,   3.65569643e+12],\n",
       "       [  4.56767637e+12,   4.56674411e+12,   7.95312788e+18, ...,\n",
       "          7.56813315e+25,   1.74039763e+13,   9.19948911e+11],\n",
       "       [  7.31558090e+12,   4.57487551e+12,   4.56301047e+12, ...,\n",
       "          9.15527545e+11,   9.22158140e+11,   2.49784031e+14],\n",
       "       ..., \n",
       "       [  4.56488500e+12,   4.55932227e+12,   4.55930454e+12, ...,\n",
       "          3.65754888e+12,   1.82885865e+12,   1.88316659e+15],\n",
       "       [  3.96054767e+18,   4.56581456e+12,   3.67443943e+12, ...,\n",
       "          3.96293396e+18,   1.84039180e+12,   6.42512400e+12],\n",
       "       [  3.65583631e+12,   9.21624122e+11,   1.83396558e+12, ...,\n",
       "          1.89489502e+15,   3.65835796e+12,   2.74383850e+12]])"
      ]
     },
     "execution_count": 8,
     "metadata": {},
     "output_type": "execute_result"
    },
    {
     "data": {
      "image/png": "[encoded data removed]",
      "text/plain": [
       "<matplotlib.figure.Figure at 0x7f3295c073c8>"
      ]
     },
     "metadata": {},
     "output_type": "display_data"
    }
   ],
   "source": [
    "print_evaluation(all_evals, all_bests, stats, scores)\n",
    "\n",
    "best_data = np.array([x['best'] for x in stats])\n",
    "best_avg = np.average(best_data, axis=0)\n",
    "\n",
    "fig, (ax1, ax2) = plt.subplots(1,2, figsize=(10,4))\n",
    "\n",
    "for run in best_data:\n",
    "    ax1.plot(run, c='#aaaaaa')\n",
    "ax1.plot(best_avg, c='#FF0000')\n",
    "ax1.set_title('Best fitness')\n",
    "\n",
    "mean_data = np.array([x['mean'] for x in stats])\n",
    "mean_avg = np.average(mean_data, axis=0)\n",
    "\n",
    "for run in mean_data:\n",
    "    ax2.plot(run, c='#aaaaaa')\n",
    "ax2.plot(mean_avg, c='#ff0000')\n",
    "ax2.set_title('Mean fitness')\n",
    "\n",
    "\n",
    "mean_data"
   ]
  },
  {
   "cell_type": "code",
   "execution_count": 9,
   "metadata": {},
   "outputs": [
    {
     "name": "stdout",
     "output_type": "stream",
     "text": [
      "iteration: 0, 1, 2, 3, 4, 5, 6, 7, 8, 9, 10, 11, 12, 13, 14, 15, 16, 17, 18, 19, 20, 21, 22, 23, 24, 25, 26, 27, 28, 29, 30, 31, 32, 33, 34, 35, 36, 37, 38, 39, 40, 41, 42, 43, 44, 45, 46, 47, 48, 49, \n",
      "\n",
      "CPU times: user 9min 55s, sys: 2 s, total: 9min 57s\n",
      "Wall time: 10min 7s\n"
     ]
    }
   ],
   "source": [
    "%%time\n",
    "\n",
    "random.seed(1)\n",
    "\n",
    "ev_params['gems'] = True\n",
    "\n",
    "sm_all_evals = []\n",
    "sm_all_bests = []\n",
    "sm_stats = []\n",
    "sm_scores = []\n",
    "\n",
    "print('iteration:', end=' ')\n",
    "for i in range(0, TRIALS):\n",
    "    result = evolution(DEFAULT_PARAMS, ev_params, X_train.reshape(-1,1), y_train)\n",
    "    sm_all_evals.append(result['evals'])\n",
    "    best_individual = result['final'][0]\n",
    "    sm_all_bests.append(best_individual)\n",
    "    sm_stats.append(Counter.get().dict.copy())\n",
    "    \n",
    "    output = best_individual.execute(X_test.reshape(-1,1))\n",
    "    score = mean_squared_error(output, y_test)\n",
    "    sm_scores.append(score)\n",
    "    \n",
    "    print('{},'.format(i), end=' ')\n",
    "print('\\n')"
   ]
  },
  {
   "cell_type": "code",
   "execution_count": 10,
   "metadata": {},
   "outputs": [
    {
     "name": "stdout",
     "output_type": "stream",
     "text": [
      "Number of improving gem applications: 0\n",
      "Number of detoriorating gem applications: 0\n",
      "Number of same as parent applications: 0\n",
      "Total generations: 62450, avg: 1249.0\n",
      "Average number of evaluations: 5001.0\n",
      "Average final fitness: 622889990514.5568\n",
      "Average score on test: 635685368944.53\n"
     ]
    },
    {
     "data": {
      "text/plain": [
       "<matplotlib.text.Text at 0x7f328cf31a58>"
      ]
     },
     "execution_count": 10,
     "metadata": {},
     "output_type": "execute_result"
    },
    {
     "data": {
      "image/png": "[encoded data removed]",
      "text/plain": [
       "<matplotlib.figure.Figure at 0x7f328d030c50>"
      ]
     },
     "metadata": {},
     "output_type": "display_data"
    }
   ],
   "source": [
    "print_evaluation(sm_all_evals, sm_all_bests, sm_stats, sm_scores)\n",
    "\n",
    "minn = min([len(x['best']) for x in sm_stats])\n",
    "best_data = np.array([x['best'][:minn] for x in sm_stats])\n",
    "sm_best_avg = np.average(best_data, axis=0)\n",
    "\n",
    "fig, (ax1, ax2) = plt.subplots(1,2, figsize=(10,4))\n",
    "\n",
    "for run in best_data:\n",
    "    ax1.plot(range(0, minn), run, c='#aaaaaa')\n",
    "ax1.plot(sm_best_avg, c='#FF0000')\n",
    "ax1.set_title('Best fitness')\n",
    "\n",
    "minn = min([len(x['mean']) for x in sm_stats])\n",
    "mean_data = np.array([x['mean'][:minn] for x in sm_stats])\n",
    "mean_avg = np.average(mean_data, axis=0)\n",
    "\n",
    "for run in mean_data:\n",
    "    ax2.plot(run, c='#aaaaaa')\n",
    "ax2.plot(mean_avg, c='#ff0000')\n",
    "ax2.set_title('Mean fitness')"
   ]
  },
  {
   "cell_type": "code",
   "execution_count": 11,
   "metadata": {},
   "outputs": [
    {
     "data": {
      "image/png": "[encoded data removed]",
      "text/plain": [
       "<matplotlib.figure.Figure at 0x7f3295c065c0>"
      ]
     },
     "metadata": {},
     "output_type": "display_data"
    }
   ],
   "source": [
    "plt.plot(best_avg[:600], label='no gems')\n",
    "plt.plot(sm_best_avg[:600], label='with gems')\n",
    "plt.title('Single mutation, $x^4 - x^3 - x^2 - x$')\n",
    "plt.xlabel('Generation')\n",
    "plt.ylabel('Fitness')\n",
    "plt.legend()\n",
    "\n",
    "plt.savefig('out/sm1d.jpg')"
   ]
  },
  {
   "cell_type": "code",
   "execution_count": null,
   "metadata": {
    "collapsed": true
   },
   "outputs": [],
   "source": []
  }
 ],
 "metadata": {
  "kernelspec": {
   "display_name": "Python 3",
   "language": "python",
   "name": "python3"
  },
  "language_info": {
   "codemirror_mode": {
    "name": "ipython",
    "version": 3
   },
   "file_extension": ".py",
   "mimetype": "text/x-python",
   "name": "python",
   "nbconvert_exporter": "python",
   "pygments_lexer": "ipython3",
   "version": "3.6.2"
  }
 },
 "nbformat": 4,
 "nbformat_minor": 2
}
